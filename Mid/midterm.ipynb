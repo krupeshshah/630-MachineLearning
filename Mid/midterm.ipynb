{
 "cells": [
  {
   "cell_type": "code",
   "execution_count": 1,
   "metadata": {},
   "outputs": [],
   "source": [
    "from sklearn.datasets import fetch_openml\n",
    "mnist = fetch_openml('mnist_784', version=1, cache=True)"
   ]
  },
  {
   "cell_type": "code",
   "execution_count": 2,
   "metadata": {},
   "outputs": [],
   "source": [
    "X, y = mnist[\"data\"], mnist[\"target\"]"
   ]
  },
  {
   "cell_type": "code",
   "execution_count": 3,
   "metadata": {},
   "outputs": [
    {
     "name": "stdout",
     "output_type": "stream",
     "text": [
      "(70000, 784)\n",
      "(70000,)\n"
     ]
    }
   ],
   "source": [
    "print(X.shape)\n",
    "print(y.shape)"
   ]
  },
  {
   "cell_type": "code",
   "execution_count": 4,
   "metadata": {},
   "outputs": [],
   "source": [
    "# Split 50,000 instances for training, 10,000 for validation, and 10,000 for testing.\n",
    "\n",
    "from sklearn.model_selection import train_test_split\n",
    "\n",
    "X_train_val, X_test, y_train_val, y_test = train_test_split( mnist.data, mnist.target, test_size=10000, random_state=42)\n",
    "X_train, X_val, y_train, y_val = train_test_split( X_train_val, y_train_val, test_size=10000, random_state=42)"
   ]
  },
  {
   "cell_type": "code",
   "execution_count": 17,
   "metadata": {},
   "outputs": [],
   "source": [
    "# Impoting model form sklearn\n",
    "from sklearn.linear_model import LogisticRegression\n",
    "from sklearn.svm import SVC\n",
    "import time\n",
    "from sklearn.metrics import roc_curve, roc_auc_score, classification_report, accuracy_score, confusion_matrix \n",
    "from sklearn.model_selection import cross_val_score"
   ]
  },
  {
   "cell_type": "code",
   "execution_count": 6,
   "metadata": {},
   "outputs": [],
   "source": [
    "# making Instance of the models \n",
    "logisticRegr_model = LogisticRegression(penalty='l2',dual=False, tol=0.0001, C=1.0, fit_intercept=True, intercept_scaling=1, class_weight=None, random_state=None, solver='lbfgs', multi_class='auto',  verbose=0, warm_start=False, n_jobs=None, l1_ratio=None)\n",
    "svm_cls = SVC(C=1.0, kernel='rbf', degree=3, gamma='scale', coef0=0.0, shrinking=True, probability=True, tol=0.001, cache_size=200, class_weight=None, verbose=False, max_iter=- 1, decision_function_shape='ovr', break_ties=False, random_state=None)"
   ]
  },
  {
   "cell_type": "code",
   "execution_count": 7,
   "metadata": {},
   "outputs": [
    {
     "name": "stderr",
     "output_type": "stream",
     "text": [
      "C:\\Users\\Krupesh\\AppData\\Roaming\\Python\\Python310\\site-packages\\sklearn\\linear_model\\_logistic.py:814: ConvergenceWarning: lbfgs failed to converge (status=1):\n",
      "STOP: TOTAL NO. of ITERATIONS REACHED LIMIT.\n",
      "\n",
      "Increase the number of iterations (max_iter) or scale the data as shown in:\n",
      "    https://scikit-learn.org/stable/modules/preprocessing.html\n",
      "Please also refer to the documentation for alternative solver options:\n",
      "    https://scikit-learn.org/stable/modules/linear_model.html#logistic-regression\n",
      "  n_iter_i = _check_optimize_result(\n"
     ]
    }
   ],
   "source": [
    "# Training model and Checking model training timing. \n",
    "\n",
    "start_time_log = time.time()\n",
    "logisticRegr_model.fit(X_train, y_train)\n",
    "end_time_log = time.time()"
   ]
  },
  {
   "cell_type": "code",
   "execution_count": 8,
   "metadata": {},
   "outputs": [],
   "source": [
    "# checking accuracy score ROC.\n",
    "y_train_hat = logisticRegr_model.predict(X_train)\n",
    "y_train_hat_probs = logisticRegr_model.predict_proba(X_train)\n",
    "\n",
    "train_accuracy = accuracy_score(y_train, y_train_hat)*100\n",
    "train_roc = roc_auc_score(y_train, y_train_hat_probs, average='macro', sample_weight=None, max_fpr=None, multi_class='ovr', labels=None)*100\n"
   ]
  },
  {
   "cell_type": "code",
   "execution_count": 9,
   "metadata": {},
   "outputs": [
    {
     "name": "stdout",
     "output_type": "stream",
     "text": [
      "Training time 44.51s\n",
      "Confusion matrix:\n",
      " [[4810    0   10    9    7   18   25    8   28    8]\n",
      " [   1 5449   19   14    4   16    3   11   42    8]\n",
      " [  22   27 4615   66   50   16   46   43  113   18]\n",
      " [  15   14   90 4655    5  124   14   31   96   35]\n",
      " [  10   20   31    9 4655    3   34   15   28  147]\n",
      " [  44   14   34  123   39 4014   63   15  115   30]\n",
      " [  26    9   29    3   28   55 4798    4   15    3]\n",
      " [   7   17   53   21   37    6    2 4859   16  150]\n",
      " [  24   72   58  104   14  107   26   14 4410   39]\n",
      " [  16   18   13   57  114   31    3  119   33 4562]]\n",
      "AUC: 99.5327 %\n",
      "Accuracy: 93.6540 %\n",
      "              precision    recall  f1-score   support\n",
      "\n",
      "           0       0.97      0.98      0.97      4923\n",
      "           1       0.97      0.98      0.97      5567\n",
      "           2       0.93      0.92      0.93      5016\n",
      "           3       0.92      0.92      0.92      5079\n",
      "           4       0.94      0.94      0.94      4952\n",
      "           5       0.91      0.89      0.90      4491\n",
      "           6       0.96      0.97      0.96      4970\n",
      "           7       0.95      0.94      0.94      5168\n",
      "           8       0.90      0.91      0.90      4868\n",
      "           9       0.91      0.92      0.92      4966\n",
      "\n",
      "    accuracy                           0.94     50000\n",
      "   macro avg       0.94      0.94      0.94     50000\n",
      "weighted avg       0.94      0.94      0.94     50000\n",
      "\n"
     ]
    }
   ],
   "source": [
    "# Here is Details of Logistic regeression.\n",
    "print(\"Training time {:.2f}s\".format(end_time_log - start_time_log))\n",
    "print('Confusion matrix:\\n', confusion_matrix(y_train, y_train_hat))\n",
    "print('AUC: %.4f %%' % train_roc)\n",
    "print('Accuracy: %.4f %%' % train_accuracy)\n",
    "print(classification_report(y_train, y_train_hat))"
   ]
  },
  {
   "cell_type": "code",
   "execution_count": 10,
   "metadata": {},
   "outputs": [],
   "source": [
    "# Counting Accuracy score and rc for test data set\n",
    "y_test_hat = logisticRegr_model.predict(X_test)\n",
    "y_test_hat_probs = logisticRegr_model.predict_proba(X_test)\n",
    "\n",
    "test_accuracy = accuracy_score(y_test, y_test_hat)*100\n",
    "\n",
    "test_auc_roc = roc_auc_score(y_test, y_test_hat_probs,average='macro', sample_weight=None, max_fpr=None, multi_class='ovr', labels=None)*100\n"
   ]
  },
  {
   "cell_type": "code",
   "execution_count": 11,
   "metadata": {},
   "outputs": [
    {
     "name": "stdout",
     "output_type": "stream",
     "text": [
      "Training time 44.51s\n",
      "Confusion matrix:\n",
      " [[4810    0   10    9    7   18   25    8   28    8]\n",
      " [   1 5449   19   14    4   16    3   11   42    8]\n",
      " [  22   27 4615   66   50   16   46   43  113   18]\n",
      " [  15   14   90 4655    5  124   14   31   96   35]\n",
      " [  10   20   31    9 4655    3   34   15   28  147]\n",
      " [  44   14   34  123   39 4014   63   15  115   30]\n",
      " [  26    9   29    3   28   55 4798    4   15    3]\n",
      " [   7   17   53   21   37    6    2 4859   16  150]\n",
      " [  24   72   58  104   14  107   26   14 4410   39]\n",
      " [  16   18   13   57  114   31    3  119   33 4562]]\n",
      "AUC: 99.5327 %\n",
      "Accuracy: 93.6540 %\n",
      "              precision    recall  f1-score   support\n",
      "\n",
      "           0       0.97      0.98      0.97      4923\n",
      "           1       0.97      0.98      0.97      5567\n",
      "           2       0.93      0.92      0.93      5016\n",
      "           3       0.92      0.92      0.92      5079\n",
      "           4       0.94      0.94      0.94      4952\n",
      "           5       0.91      0.89      0.90      4491\n",
      "           6       0.96      0.97      0.96      4970\n",
      "           7       0.95      0.94      0.94      5168\n",
      "           8       0.90      0.91      0.90      4868\n",
      "           9       0.91      0.92      0.92      4966\n",
      "\n",
      "    accuracy                           0.94     50000\n",
      "   macro avg       0.94      0.94      0.94     50000\n",
      "weighted avg       0.94      0.94      0.94     50000\n",
      "\n"
     ]
    }
   ],
   "source": [
    "# here details for the logistic regression for test data.\n",
    "print(\"Training time {:.2f}s\".format(end_time_log - start_time_log))\n",
    "print('Confusion matrix:\\n', confusion_matrix(y_train, y_train_hat))\n",
    "print('AUC: %.4f %%' % train_roc)\n",
    "print('Accuracy: %.4f %%' % train_accuracy)\n",
    "print(classification_report(y_train, y_train_hat))"
   ]
  },
  {
   "cell_type": "code",
   "execution_count": 12,
   "metadata": {},
   "outputs": [],
   "source": [
    "# importing SVM \n",
    "from sklearn.svm import SVC"
   ]
  },
  {
   "cell_type": "code",
   "execution_count": 13,
   "metadata": {},
   "outputs": [],
   "source": [
    "# instance of SVM.\n",
    "svm_cls = SVC(C=1.0, kernel='rbf', degree=3, gamma='scale', coef0=0.0, shrinking=True, probability=True, tol=0.001, cache_size=200, class_weight=None, verbose=False, max_iter=- 1, decision_function_shape='ovr', break_ties=False, random_state=None)"
   ]
  },
  {
   "cell_type": "code",
   "execution_count": 14,
   "metadata": {},
   "outputs": [],
   "source": [
    "start_time_svm = time.time()\n",
    "svm_cls.fit(X_train, y_train)\n",
    "end_time_svm = time.time()"
   ]
  },
  {
   "cell_type": "code",
   "execution_count": 15,
   "metadata": {},
   "outputs": [],
   "source": [
    "# here is accuracy score and roc for SVM.\n",
    "y_pred = svm_cls.predict(X_test)\n",
    "y_prob= svm_cls.predict_proba(X_test)\n",
    "\n",
    "train_accuracy = accuracy_score(y_test, y_pred)*100\n",
    "train_auc_roc = roc_auc_score(y_test, y_prob, average='macro', sample_weight=None, max_fpr=None, multi_class='ovo', labels=None)*100\n"
   ]
  },
  {
   "cell_type": "code",
   "execution_count": 16,
   "metadata": {},
   "outputs": [
    {
     "name": "stdout",
     "output_type": "stream",
     "text": [
      "Training time 1774.39s\n",
      "Confusion matrix:\n",
      " [[4810    0   10    9    7   18   25    8   28    8]\n",
      " [   1 5449   19   14    4   16    3   11   42    8]\n",
      " [  22   27 4615   66   50   16   46   43  113   18]\n",
      " [  15   14   90 4655    5  124   14   31   96   35]\n",
      " [  10   20   31    9 4655    3   34   15   28  147]\n",
      " [  44   14   34  123   39 4014   63   15  115   30]\n",
      " [  26    9   29    3   28   55 4798    4   15    3]\n",
      " [   7   17   53   21   37    6    2 4859   16  150]\n",
      " [  24   72   58  104   14  107   26   14 4410   39]\n",
      " [  16   18   13   57  114   31    3  119   33 4562]]\n",
      "AUC: 99.5327 %\n",
      "Accuracy: 97.6000 %\n",
      "              precision    recall  f1-score   support\n",
      "\n",
      "           0       0.97      0.98      0.97      4923\n",
      "           1       0.97      0.98      0.97      5567\n",
      "           2       0.93      0.92      0.93      5016\n",
      "           3       0.92      0.92      0.92      5079\n",
      "           4       0.94      0.94      0.94      4952\n",
      "           5       0.91      0.89      0.90      4491\n",
      "           6       0.96      0.97      0.96      4970\n",
      "           7       0.95      0.94      0.94      5168\n",
      "           8       0.90      0.91      0.90      4868\n",
      "           9       0.91      0.92      0.92      4966\n",
      "\n",
      "    accuracy                           0.94     50000\n",
      "   macro avg       0.94      0.94      0.94     50000\n",
      "weighted avg       0.94      0.94      0.94     50000\n",
      "\n"
     ]
    }
   ],
   "source": [
    "# here the details of SVM \n",
    "print(\"Training time {:.2f}s\".format(end_time_svm - start_time_svm))\n",
    "print('Confusion matrix:\\n', confusion_matrix(y_train, y_train_hat))\n",
    "print('AUC: %.4f %%' % train_roc)\n",
    "print('Accuracy: %.4f %%' % train_accuracy)\n",
    "print(classification_report(y_train, y_train_hat))"
   ]
  },
  {
   "cell_type": "markdown",
   "metadata": {},
   "source": [
    "# Error Confusion Metrix"
   ]
  },
  {
   "cell_type": "code",
   "execution_count": 19,
   "metadata": {},
   "outputs": [
    {
     "name": "stderr",
     "output_type": "stream",
     "text": [
      "C:\\Users\\Krupesh\\AppData\\Roaming\\Python\\Python310\\site-packages\\sklearn\\linear_model\\_logistic.py:814: ConvergenceWarning: lbfgs failed to converge (status=1):\n",
      "STOP: TOTAL NO. of ITERATIONS REACHED LIMIT.\n",
      "\n",
      "Increase the number of iterations (max_iter) or scale the data as shown in:\n",
      "    https://scikit-learn.org/stable/modules/preprocessing.html\n",
      "Please also refer to the documentation for alternative solver options:\n",
      "    https://scikit-learn.org/stable/modules/linear_model.html#logistic-regression\n",
      "  n_iter_i = _check_optimize_result(\n",
      "C:\\Users\\Krupesh\\AppData\\Roaming\\Python\\Python310\\site-packages\\sklearn\\linear_model\\_logistic.py:814: ConvergenceWarning: lbfgs failed to converge (status=1):\n",
      "STOP: TOTAL NO. of ITERATIONS REACHED LIMIT.\n",
      "\n",
      "Increase the number of iterations (max_iter) or scale the data as shown in:\n",
      "    https://scikit-learn.org/stable/modules/preprocessing.html\n",
      "Please also refer to the documentation for alternative solver options:\n",
      "    https://scikit-learn.org/stable/modules/linear_model.html#logistic-regression\n",
      "  n_iter_i = _check_optimize_result(\n",
      "C:\\Users\\Krupesh\\AppData\\Roaming\\Python\\Python310\\site-packages\\sklearn\\linear_model\\_logistic.py:814: ConvergenceWarning: lbfgs failed to converge (status=1):\n",
      "STOP: TOTAL NO. of ITERATIONS REACHED LIMIT.\n",
      "\n",
      "Increase the number of iterations (max_iter) or scale the data as shown in:\n",
      "    https://scikit-learn.org/stable/modules/preprocessing.html\n",
      "Please also refer to the documentation for alternative solver options:\n",
      "    https://scikit-learn.org/stable/modules/linear_model.html#logistic-regression\n",
      "  n_iter_i = _check_optimize_result(\n"
     ]
    },
    {
     "ename": "ValueError",
     "evalue": "Found input variables with inconsistent numbers of samples: [50000, 5]",
     "output_type": "error",
     "traceback": [
      "\u001b[1;31m---------------------------------------------------------------------------\u001b[0m",
      "\u001b[1;31mValueError\u001b[0m                                Traceback (most recent call last)",
      "\u001b[1;32mg:\\SPU\\630\\Git\\My_Works\\Mid\\midterm.ipynb Cell 18'\u001b[0m in \u001b[0;36m<cell line: 3>\u001b[1;34m()\u001b[0m\n\u001b[0;32m      <a href='vscode-notebook-cell:/g%3A/SPU/630/Git/My_Works/Mid/midterm.ipynb#ch0000030?line=0'>1</a>\u001b[0m cross_val \u001b[39m=\u001b[39m cross_val_score(logisticRegr_model, X_train, y_train, cv\u001b[39m=\u001b[39m\u001b[39m3\u001b[39m, scoring\u001b[39m=\u001b[39m\u001b[39m\"\u001b[39m\u001b[39maccuracy\u001b[39m\u001b[39m\"\u001b[39m)\n\u001b[0;32m      <a href='vscode-notebook-cell:/g%3A/SPU/630/Git/My_Works/Mid/midterm.ipynb#ch0000030?line=1'>2</a>\u001b[0m cross_val \u001b[39m=\u001b[39m cross_val_score(svm_cls, X_train, y_train,  scoring\u001b[39m=\u001b[39m\u001b[39m\"\u001b[39m\u001b[39maccuracy\u001b[39m\u001b[39m\"\u001b[39m)\n\u001b[1;32m----> <a href='vscode-notebook-cell:/g%3A/SPU/630/Git/My_Works/Mid/midterm.ipynb#ch0000030?line=2'>3</a>\u001b[0m conf_mx \u001b[39m=\u001b[39m confusion_matrix(y_train, cross_val)\n\u001b[0;32m      <a href='vscode-notebook-cell:/g%3A/SPU/630/Git/My_Works/Mid/midterm.ipynb#ch0000030?line=3'>4</a>\u001b[0m \u001b[39mprint\u001b[39m(\u001b[39m'\u001b[39m\u001b[39mError Confusion Matrix: \u001b[39m\u001b[39m%.4f\u001b[39;00m\u001b[39m \u001b[39m\u001b[39m%%\u001b[39;00m\u001b[39m'\u001b[39m \u001b[39m%\u001b[39m conf_mx)\n",
      "File \u001b[1;32m~\\AppData\\Roaming\\Python\\Python310\\site-packages\\sklearn\\metrics\\_classification.py:307\u001b[0m, in \u001b[0;36mconfusion_matrix\u001b[1;34m(y_true, y_pred, labels, sample_weight, normalize)\u001b[0m\n\u001b[0;32m    <a href='file:///c%3A/Users/Krupesh/AppData/Roaming/Python/Python310/site-packages/sklearn/metrics/_classification.py?line=221'>222</a>\u001b[0m \u001b[39mdef\u001b[39;00m \u001b[39mconfusion_matrix\u001b[39m(\n\u001b[0;32m    <a href='file:///c%3A/Users/Krupesh/AppData/Roaming/Python/Python310/site-packages/sklearn/metrics/_classification.py?line=222'>223</a>\u001b[0m     y_true, y_pred, \u001b[39m*\u001b[39m, labels\u001b[39m=\u001b[39m\u001b[39mNone\u001b[39;00m, sample_weight\u001b[39m=\u001b[39m\u001b[39mNone\u001b[39;00m, normalize\u001b[39m=\u001b[39m\u001b[39mNone\u001b[39;00m\n\u001b[0;32m    <a href='file:///c%3A/Users/Krupesh/AppData/Roaming/Python/Python310/site-packages/sklearn/metrics/_classification.py?line=223'>224</a>\u001b[0m ):\n\u001b[0;32m    <a href='file:///c%3A/Users/Krupesh/AppData/Roaming/Python/Python310/site-packages/sklearn/metrics/_classification.py?line=224'>225</a>\u001b[0m     \u001b[39m\"\"\"Compute confusion matrix to evaluate the accuracy of a classification.\u001b[39;00m\n\u001b[0;32m    <a href='file:///c%3A/Users/Krupesh/AppData/Roaming/Python/Python310/site-packages/sklearn/metrics/_classification.py?line=225'>226</a>\u001b[0m \n\u001b[0;32m    <a href='file:///c%3A/Users/Krupesh/AppData/Roaming/Python/Python310/site-packages/sklearn/metrics/_classification.py?line=226'>227</a>\u001b[0m \u001b[39m    By definition a confusion matrix :math:`C` is such that :math:`C_{i, j}`\u001b[39;00m\n\u001b[1;32m   (...)\u001b[0m\n\u001b[0;32m    <a href='file:///c%3A/Users/Krupesh/AppData/Roaming/Python/Python310/site-packages/sklearn/metrics/_classification.py?line=304'>305</a>\u001b[0m \u001b[39m    (0, 2, 1, 1)\u001b[39;00m\n\u001b[0;32m    <a href='file:///c%3A/Users/Krupesh/AppData/Roaming/Python/Python310/site-packages/sklearn/metrics/_classification.py?line=305'>306</a>\u001b[0m \u001b[39m    \"\"\"\u001b[39;00m\n\u001b[1;32m--> <a href='file:///c%3A/Users/Krupesh/AppData/Roaming/Python/Python310/site-packages/sklearn/metrics/_classification.py?line=306'>307</a>\u001b[0m     y_type, y_true, y_pred \u001b[39m=\u001b[39m _check_targets(y_true, y_pred)\n\u001b[0;32m    <a href='file:///c%3A/Users/Krupesh/AppData/Roaming/Python/Python310/site-packages/sklearn/metrics/_classification.py?line=307'>308</a>\u001b[0m     \u001b[39mif\u001b[39;00m y_type \u001b[39mnot\u001b[39;00m \u001b[39min\u001b[39;00m (\u001b[39m\"\u001b[39m\u001b[39mbinary\u001b[39m\u001b[39m\"\u001b[39m, \u001b[39m\"\u001b[39m\u001b[39mmulticlass\u001b[39m\u001b[39m\"\u001b[39m):\n\u001b[0;32m    <a href='file:///c%3A/Users/Krupesh/AppData/Roaming/Python/Python310/site-packages/sklearn/metrics/_classification.py?line=308'>309</a>\u001b[0m         \u001b[39mraise\u001b[39;00m \u001b[39mValueError\u001b[39;00m(\u001b[39m\"\u001b[39m\u001b[39m%s\u001b[39;00m\u001b[39m is not supported\u001b[39m\u001b[39m\"\u001b[39m \u001b[39m%\u001b[39m y_type)\n",
      "File \u001b[1;32m~\\AppData\\Roaming\\Python\\Python310\\site-packages\\sklearn\\metrics\\_classification.py:84\u001b[0m, in \u001b[0;36m_check_targets\u001b[1;34m(y_true, y_pred)\u001b[0m\n\u001b[0;32m     <a href='file:///c%3A/Users/Krupesh/AppData/Roaming/Python/Python310/site-packages/sklearn/metrics/_classification.py?line=56'>57</a>\u001b[0m \u001b[39mdef\u001b[39;00m \u001b[39m_check_targets\u001b[39m(y_true, y_pred):\n\u001b[0;32m     <a href='file:///c%3A/Users/Krupesh/AppData/Roaming/Python/Python310/site-packages/sklearn/metrics/_classification.py?line=57'>58</a>\u001b[0m     \u001b[39m\"\"\"Check that y_true and y_pred belong to the same classification task.\u001b[39;00m\n\u001b[0;32m     <a href='file:///c%3A/Users/Krupesh/AppData/Roaming/Python/Python310/site-packages/sklearn/metrics/_classification.py?line=58'>59</a>\u001b[0m \n\u001b[0;32m     <a href='file:///c%3A/Users/Krupesh/AppData/Roaming/Python/Python310/site-packages/sklearn/metrics/_classification.py?line=59'>60</a>\u001b[0m \u001b[39m    This converts multiclass or binary types to a common shape, and raises a\u001b[39;00m\n\u001b[1;32m   (...)\u001b[0m\n\u001b[0;32m     <a href='file:///c%3A/Users/Krupesh/AppData/Roaming/Python/Python310/site-packages/sklearn/metrics/_classification.py?line=81'>82</a>\u001b[0m \u001b[39m    y_pred : array or indicator matrix\u001b[39;00m\n\u001b[0;32m     <a href='file:///c%3A/Users/Krupesh/AppData/Roaming/Python/Python310/site-packages/sklearn/metrics/_classification.py?line=82'>83</a>\u001b[0m \u001b[39m    \"\"\"\u001b[39;00m\n\u001b[1;32m---> <a href='file:///c%3A/Users/Krupesh/AppData/Roaming/Python/Python310/site-packages/sklearn/metrics/_classification.py?line=83'>84</a>\u001b[0m     check_consistent_length(y_true, y_pred)\n\u001b[0;32m     <a href='file:///c%3A/Users/Krupesh/AppData/Roaming/Python/Python310/site-packages/sklearn/metrics/_classification.py?line=84'>85</a>\u001b[0m     type_true \u001b[39m=\u001b[39m type_of_target(y_true)\n\u001b[0;32m     <a href='file:///c%3A/Users/Krupesh/AppData/Roaming/Python/Python310/site-packages/sklearn/metrics/_classification.py?line=85'>86</a>\u001b[0m     type_pred \u001b[39m=\u001b[39m type_of_target(y_pred)\n",
      "File \u001b[1;32m~\\AppData\\Roaming\\Python\\Python310\\site-packages\\sklearn\\utils\\validation.py:332\u001b[0m, in \u001b[0;36mcheck_consistent_length\u001b[1;34m(*arrays)\u001b[0m\n\u001b[0;32m    <a href='file:///c%3A/Users/Krupesh/AppData/Roaming/Python/Python310/site-packages/sklearn/utils/validation.py?line=329'>330</a>\u001b[0m uniques \u001b[39m=\u001b[39m np\u001b[39m.\u001b[39munique(lengths)\n\u001b[0;32m    <a href='file:///c%3A/Users/Krupesh/AppData/Roaming/Python/Python310/site-packages/sklearn/utils/validation.py?line=330'>331</a>\u001b[0m \u001b[39mif\u001b[39;00m \u001b[39mlen\u001b[39m(uniques) \u001b[39m>\u001b[39m \u001b[39m1\u001b[39m:\n\u001b[1;32m--> <a href='file:///c%3A/Users/Krupesh/AppData/Roaming/Python/Python310/site-packages/sklearn/utils/validation.py?line=331'>332</a>\u001b[0m     \u001b[39mraise\u001b[39;00m \u001b[39mValueError\u001b[39;00m(\n\u001b[0;32m    <a href='file:///c%3A/Users/Krupesh/AppData/Roaming/Python/Python310/site-packages/sklearn/utils/validation.py?line=332'>333</a>\u001b[0m         \u001b[39m\"\u001b[39m\u001b[39mFound input variables with inconsistent numbers of samples: \u001b[39m\u001b[39m%r\u001b[39;00m\u001b[39m\"\u001b[39m\n\u001b[0;32m    <a href='file:///c%3A/Users/Krupesh/AppData/Roaming/Python/Python310/site-packages/sklearn/utils/validation.py?line=333'>334</a>\u001b[0m         \u001b[39m%\u001b[39m [\u001b[39mint\u001b[39m(l) \u001b[39mfor\u001b[39;00m l \u001b[39min\u001b[39;00m lengths]\n\u001b[0;32m    <a href='file:///c%3A/Users/Krupesh/AppData/Roaming/Python/Python310/site-packages/sklearn/utils/validation.py?line=334'>335</a>\u001b[0m     )\n",
      "\u001b[1;31mValueError\u001b[0m: Found input variables with inconsistent numbers of samples: [50000, 5]"
     ]
    }
   ],
   "source": [
    "# finding Error Confustion metrix using cross validation \n",
    "cross_val = cross_val_score(logisticRegr_model, X_train, y_train, cv=3, scoring=\"accuracy\")\n",
    "cross_val = cross_val_score(svm_cls, X_train, y_train,  scoring=\"accuracy\")\n",
    "conf_mx = confusion_matrix(y_train, cross_val)\n",
    "print('Error Confusion Matrix: %.4f %%' % conf_mx)"
   ]
  },
  {
   "cell_type": "code",
   "execution_count": null,
   "metadata": {},
   "outputs": [],
   "source": []
  }
 ],
 "metadata": {
  "interpreter": {
   "hash": "26de051ba29f2982a8de78e945f0abaf191376122a1563185a90213a26c5da77"
  },
  "kernelspec": {
   "display_name": "Python 3.10.0 64-bit",
   "language": "python",
   "name": "python3"
  },
  "language_info": {
   "codemirror_mode": {
    "name": "ipython",
    "version": 3
   },
   "file_extension": ".py",
   "mimetype": "text/x-python",
   "name": "python",
   "nbconvert_exporter": "python",
   "pygments_lexer": "ipython3",
   "version": "3.10.0"
  },
  "orig_nbformat": 4
 },
 "nbformat": 4,
 "nbformat_minor": 2
}
