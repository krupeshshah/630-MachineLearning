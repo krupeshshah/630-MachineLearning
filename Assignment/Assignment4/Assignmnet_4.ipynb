{
 "cells": [
  {
   "cell_type": "markdown",
   "metadata": {},
   "source": [
    "DS-630 Assignment 4 \n"
   ]
  },
  {
   "cell_type": "markdown",
   "metadata": {},
   "source": [
    "2.\tTrain an SVM classifier on the MNIST dataset. Since SVM classifiers are binary classifiers, you will need to use one-versus-the-rest to classify all 10 digits. You may want to tune the hyperparameters using small validation sets to speed up the process. What accuracy can you reach?"
   ]
  },
  {
   "cell_type": "markdown",
   "metadata": {},
   "source": [
    "Loading the dataset."
   ]
  },
  {
   "cell_type": "code",
   "execution_count": 1,
   "metadata": {},
   "outputs": [],
   "source": [
    "import numpy as np\n",
    "from sklearn.datasets import fetch_openml\n",
    "\n",
    "# Loadding the dataset \n",
    "mnist = fetch_openml('mnist_784', version=1, cache=True, as_frame=False)"
   ]
  },
  {
   "cell_type": "markdown",
   "metadata": {},
   "source": [
    "Splitting into training and testing datasets set. people usually just take the first 60,000 instances for the training set and the last 10,000 instances for the test set."
   ]
  },
  {
   "cell_type": "code",
   "execution_count": 4,
   "metadata": {},
   "outputs": [],
   "source": [
    "X = mnist[\"data\"]\n",
    "y = mnist[\"target\"].astype(np.uint8)\n",
    "\n",
    "X_train = X[:60000]\n",
    "y_train = y[:60000]\n",
    "X_test = X[60000:]\n",
    "y_test = y[60000:]"
   ]
  },
  {
   "cell_type": "markdown",
   "metadata": {},
   "source": [
    "It's common practice to shuffle the training instances first because many training algorithms are sensitive to their order. However, since the dataset has already been scrambled, we do not need to. Start off easy by using a linear SVM classifier. There is nothing additional we need to do because it will automatically utilize the One-vs-All (also known as One-vs-the-Rest, OvR) strategy. Easy!"
   ]
  },
  {
   "cell_type": "code",
   "execution_count": 9,
   "metadata": {},
   "outputs": [
    {
     "name": "stderr",
     "output_type": "stream",
     "text": [
      "C:\\Users\\Krupesh\\AppData\\Roaming\\Python\\Python310\\site-packages\\sklearn\\svm\\_base.py:1206: ConvergenceWarning: Liblinear failed to converge, increase the number of iterations.\n",
      "  warnings.warn(\n"
     ]
    },
    {
     "data": {
      "text/plain": [
       "LinearSVC(random_state=42)"
      ]
     },
     "execution_count": 9,
     "metadata": {},
     "output_type": "execute_result"
    }
   ],
   "source": [
    "from sklearn.svm import LinearSVC\n",
    "\n",
    "lin_clf = LinearSVC(random_state=42)\n",
    "lin_clf.fit(X_train, y_train)"
   ]
  },
  {
   "cell_type": "markdown",
   "metadata": {},
   "source": [
    "Making predictions and finding accuracy"
   ]
  },
  {
   "cell_type": "code",
   "execution_count": 10,
   "metadata": {},
   "outputs": [
    {
     "data": {
      "text/plain": [
       "0.8348666666666666"
      ]
     },
     "execution_count": 10,
     "metadata": {},
     "output_type": "execute_result"
    }
   ],
   "source": [
    "from sklearn.metrics import accuracy_score\n",
    "\n",
    "y_pred = lin_clf.predict(X_train)\n",
    "accuracy_score(y_train, y_pred)"
   ]
  },
  {
   "cell_type": "markdown",
   "metadata": {},
   "source": [
    "Linear model is certainly too simple for most. for MNIST 83% accuracy is too low."
   ]
  },
  {
   "cell_type": "code",
   "execution_count": 12,
   "metadata": {},
   "outputs": [],
   "source": [
    "from sklearn.preprocessing import StandardScaler\n",
    "scaler = StandardScaler()\n",
    "X_train_scaled = scaler.fit_transform(X_train.astype(np.float32))\n",
    "X_test_scaled = scaler.transform(X_test.astype(np.float32))"
   ]
  },
  {
   "cell_type": "code",
   "execution_count": 13,
   "metadata": {},
   "outputs": [
    {
     "name": "stderr",
     "output_type": "stream",
     "text": [
      "C:\\Users\\Krupesh\\AppData\\Roaming\\Python\\Python310\\site-packages\\sklearn\\svm\\_base.py:1206: ConvergenceWarning: Liblinear failed to converge, increase the number of iterations.\n",
      "  warnings.warn(\n"
     ]
    },
    {
     "data": {
      "text/plain": [
       "LinearSVC(random_state=42)"
      ]
     },
     "execution_count": 13,
     "metadata": {},
     "output_type": "execute_result"
    }
   ],
   "source": [
    "lin_clf = LinearSVC(random_state=42)\n",
    "lin_clf.fit(X_train_scaled, y_train)"
   ]
  },
  {
   "cell_type": "code",
   "execution_count": 14,
   "metadata": {},
   "outputs": [
    {
     "data": {
      "text/plain": [
       "0.9214"
      ]
     },
     "execution_count": 14,
     "metadata": {},
     "output_type": "execute_result"
    }
   ],
   "source": [
    "y_pred = lin_clf.predict(X_train_scaled)\n",
    "accuracy_score(y_train, y_pred)"
   ]
  },
  {
   "cell_type": "markdown",
   "metadata": {},
   "source": [
    "this accuracy is better than linear but still not good enough for MNIST."
   ]
  },
  {
   "cell_type": "code",
   "execution_count": 15,
   "metadata": {},
   "outputs": [
    {
     "data": {
      "text/plain": [
       "SVC()"
      ]
     },
     "execution_count": 15,
     "metadata": {},
     "output_type": "execute_result"
    }
   ],
   "source": [
    "from sklearn.svm import SVC\n",
    "svm_clf = SVC(gamma=\"scale\")\n",
    "svm_clf.fit(X_train_scaled[:10000], y_train[:10000])"
   ]
  },
  {
   "cell_type": "code",
   "execution_count": 16,
   "metadata": {},
   "outputs": [
    {
     "data": {
      "text/plain": [
       "0.9455333333333333"
      ]
     },
     "execution_count": 16,
     "metadata": {},
     "output_type": "execute_result"
    }
   ],
   "source": [
    "y_pred = svm_clf.predict(X_train_scaled)\n",
    "accuracy_score(y_train, y_pred)"
   ]
  },
  {
   "cell_type": "markdown",
   "metadata": {},
   "source": [
    "That's encouraging because performance has improved despite the model having been trained on six times less data. Let's perform a randomized search using cross validation to adjust the hyperparameters. To expedite the procedure, we'll perform this on a small dataset:"
   ]
  },
  {
   "cell_type": "code",
   "execution_count": 17,
   "metadata": {},
   "outputs": [
    {
     "name": "stdout",
     "output_type": "stream",
     "text": [
      "Fitting 3 folds for each of 10 candidates, totalling 30 fits\n",
      "[CV] END .....C=6.855833897593921, gamma=0.04734878468163205; total time=   0.3s\n",
      "[CV] END .....C=6.855833897593921, gamma=0.04734878468163205; total time=   0.2s\n",
      "[CV] END .....C=6.855833897593921, gamma=0.04734878468163205; total time=   0.3s\n",
      "[CV] END ....C=8.357458637398308, gamma=0.006749170096626634; total time=   0.2s\n",
      "[CV] END ....C=8.357458637398308, gamma=0.006749170096626634; total time=   0.6s\n",
      "[CV] END ....C=8.357458637398308, gamma=0.006749170096626634; total time=   0.6s\n",
      "[CV] END ....C=9.951288087071758, gamma=0.024591191168513864; total time=   0.4s\n",
      "[CV] END ....C=9.951288087071758, gamma=0.024591191168513864; total time=   0.4s\n",
      "[CV] END ....C=9.951288087071758, gamma=0.024591191168513864; total time=   0.4s\n",
      "[CV] END ....C=7.326066792795047, gamma=0.006331795414932815; total time=   0.5s\n",
      "[CV] END ....C=7.326066792795047, gamma=0.006331795414932815; total time=   0.5s\n",
      "[CV] END ....C=7.326066792795047, gamma=0.006331795414932815; total time=   0.4s\n",
      "[CV] END .....C=2.088375426428466, gamma=0.01609325726682701; total time=   0.4s\n",
      "[CV] END .....C=2.088375426428466, gamma=0.01609325726682701; total time=   0.4s\n",
      "[CV] END .....C=2.088375426428466, gamma=0.01609325726682701; total time=   0.6s\n",
      "[CV] END .....C=7.050908490547265, gamma=0.03606264458733609; total time=   0.3s\n",
      "[CV] END .....C=7.050908490547265, gamma=0.03606264458733609; total time=   0.9s\n",
      "[CV] END .....C=7.050908490547265, gamma=0.03606264458733609; total time=   0.5s\n",
      "[CV] END ....C=4.990242128067364, gamma=0.012812132387982778; total time=   0.4s\n",
      "[CV] END ....C=4.990242128067364, gamma=0.012812132387982778; total time=   0.3s\n",
      "[CV] END ....C=4.990242128067364, gamma=0.012812132387982778; total time=   0.3s\n",
      "[CV] END ....C=10.139533432717286, gamma=0.08057645741687566; total time=   0.4s\n",
      "[CV] END ....C=10.139533432717286, gamma=0.08057645741687566; total time=   0.3s\n",
      "[CV] END ....C=10.139533432717286, gamma=0.08057645741687566; total time=   0.3s\n",
      "[CV] END ....C=2.174940044109545, gamma=0.013627051474051079; total time=   0.5s\n",
      "[CV] END ....C=2.174940044109545, gamma=0.013627051474051079; total time=   0.6s\n",
      "[CV] END ....C=2.174940044109545, gamma=0.013627051474051079; total time=   0.5s\n",
      "[CV] END ....C=9.618219294664483, gamma=0.011061357945720256; total time=   0.6s\n",
      "[CV] END ....C=9.618219294664483, gamma=0.011061357945720256; total time=   0.6s\n",
      "[CV] END ....C=9.618219294664483, gamma=0.011061357945720256; total time=   0.3s\n"
     ]
    },
    {
     "data": {
      "text/plain": [
       "RandomizedSearchCV(cv=3, estimator=SVC(),\n",
       "                   param_distributions={'C': <scipy.stats._distn_infrastructure.rv_frozen object at 0x0000016E4F8C2D10>,\n",
       "                                        'gamma': <scipy.stats._distn_infrastructure.rv_frozen object at 0x0000016E4F8C2E90>},\n",
       "                   verbose=2)"
      ]
     },
     "execution_count": 17,
     "metadata": {},
     "output_type": "execute_result"
    }
   ],
   "source": [
    "from sklearn.model_selection import RandomizedSearchCV\n",
    "from scipy.stats import reciprocal, uniform\n",
    "\n",
    "param_distributions = {\"gamma\": reciprocal(0.001, 0.1), \"C\": uniform(1, 10)}\n",
    "rnd_search_cv = RandomizedSearchCV(svm_clf, param_distributions, n_iter=10, verbose=2, cv=3)\n",
    "rnd_search_cv.fit(X_train_scaled[:1000], y_train[:1000])"
   ]
  },
  {
   "cell_type": "code",
   "execution_count": 18,
   "metadata": {},
   "outputs": [
    {
     "data": {
      "text/plain": [
       "SVC(C=7.326066792795047, gamma=0.006331795414932815)"
      ]
     },
     "execution_count": 18,
     "metadata": {},
     "output_type": "execute_result"
    }
   ],
   "source": [
    "rnd_search_cv.best_estimator_"
   ]
  },
  {
   "cell_type": "code",
   "execution_count": 19,
   "metadata": {},
   "outputs": [
    {
     "data": {
      "text/plain": [
       "0.7099644554734376"
      ]
     },
     "execution_count": 19,
     "metadata": {},
     "output_type": "execute_result"
    }
   ],
   "source": [
    "rnd_search_cv.best_score_"
   ]
  },
  {
   "cell_type": "markdown",
   "metadata": {},
   "source": [
    "Although it seems low, keep in mind that we only trained the model on 1,000 occasions. Retrained on the entire training set, let's use the best estimator:"
   ]
  },
  {
   "cell_type": "code",
   "execution_count": 20,
   "metadata": {},
   "outputs": [
    {
     "data": {
      "text/plain": [
       "SVC(C=7.326066792795047, gamma=0.006331795414932815)"
      ]
     },
     "execution_count": 20,
     "metadata": {},
     "output_type": "execute_result"
    }
   ],
   "source": [
    "rnd_search_cv.best_estimator_.fit(X_train_scaled, y_train)"
   ]
  },
  {
   "cell_type": "code",
   "execution_count": 21,
   "metadata": {},
   "outputs": [
    {
     "data": {
      "text/plain": [
       "1.0"
      ]
     },
     "execution_count": 21,
     "metadata": {},
     "output_type": "execute_result"
    }
   ],
   "source": [
    "y_pred = rnd_search_cv.best_estimator_.predict(X_train_scaled)\n",
    "accuracy_score(y_train, y_pred)"
   ]
  },
  {
   "cell_type": "markdown",
   "metadata": {},
   "source": [
    "This is better than another model. but looks like over fitting model."
   ]
  },
  {
   "cell_type": "code",
   "execution_count": 22,
   "metadata": {},
   "outputs": [
    {
     "data": {
      "text/plain": [
       "0.9286"
      ]
     },
     "execution_count": 22,
     "metadata": {},
     "output_type": "execute_result"
    }
   ],
   "source": [
    "y_pred = rnd_search_cv.best_estimator_.predict(X_test_scaled)\n",
    "accuracy_score(y_test, y_pred)"
   ]
  },
  {
   "cell_type": "markdown",
   "metadata": {},
   "source": [
    "Testing on the test set using random search. It’s not bad but it looks like the model is slightly overfitting."
   ]
  },
  {
   "cell_type": "code",
   "execution_count": null,
   "metadata": {},
   "outputs": [],
   "source": []
  }
 ],
 "metadata": {
  "interpreter": {
   "hash": "26de051ba29f2982a8de78e945f0abaf191376122a1563185a90213a26c5da77"
  },
  "kernelspec": {
   "display_name": "Python 3.10.0 64-bit",
   "language": "python",
   "name": "python3"
  },
  "language_info": {
   "codemirror_mode": {
    "name": "ipython",
    "version": 3
   },
   "file_extension": ".py",
   "mimetype": "text/x-python",
   "name": "python",
   "nbconvert_exporter": "python",
   "pygments_lexer": "ipython3",
   "version": "3.10.0"
  },
  "orig_nbformat": 4
 },
 "nbformat": 4,
 "nbformat_minor": 2
}
