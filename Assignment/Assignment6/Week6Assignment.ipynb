{
 "cells": [
  {
   "cell_type": "markdown",
   "metadata": {},
   "source": [
    "Train and fine-tune a Decision Tree for the moons dataset by following these steps:\n",
    "\n",
    "Use make_moons(n_samples=10000, noise=0.4) to generate a moons dataset.\n",
    "Use train_test_split() to split the dataset into a training set and a test set.\n",
    "Use grid search with cross-validation (with the help of the GridSearchCV class) to find good hyperparameter values for a DecisionTreeClassifier. Hint: try various values for max_leaf_nodes.\n",
    "Train it on the full training set using these hyperparameters, and measure your model’s performance on the test set. You should get roughly 85% to 87% accuracy."
   ]
  },
  {
   "cell_type": "code",
   "execution_count": 1,
   "metadata": {},
   "outputs": [],
   "source": [
    "# 1. Use make_moons(n_samples=10000, noise=0.4) to generate a moons dataset.\n",
    "from sklearn.datasets import make_moons\n",
    "X, y = make_moons(n_samples=10000, noise=0.4, random_state=42)"
   ]
  },
  {
   "cell_type": "code",
   "execution_count": 10,
   "metadata": {},
   "outputs": [
    {
     "name": "stdout",
     "output_type": "stream",
     "text": [
      "[[ 0.9402914   0.12230559]\n",
      " [ 0.12454026 -0.42477546]\n",
      " [ 0.26198823  0.50841438]\n",
      " ...\n",
      " [-0.24177973  0.20957199]\n",
      " [ 0.90679645  0.54958215]\n",
      " [ 2.08837082 -0.05050728]]\n",
      "[1 0 0 ... 1 0 1]\n"
     ]
    }
   ],
   "source": [
    "print(X)\n",
    "\n",
    "print(y)"
   ]
  },
  {
   "cell_type": "code",
   "execution_count": 17,
   "metadata": {},
   "outputs": [
    {
     "name": "stdout",
     "output_type": "stream",
     "text": [
      "(10000, 2)\n",
      "(10000,)\n"
     ]
    }
   ],
   "source": [
    "print(X.shape)\n",
    "print(y.shape)"
   ]
  },
  {
   "cell_type": "code",
   "execution_count": 2,
   "metadata": {},
   "outputs": [],
   "source": [
    "# 2. Split it into a training set and a test set using train_test_split()\n",
    "from sklearn.model_selection import train_test_split\n",
    "\n",
    "X_train, X_test, y_train, y_test = train_test_split(X, y, test_size=0.2, random_state=42)"
   ]
  },
  {
   "cell_type": "code",
   "execution_count": 19,
   "metadata": {},
   "outputs": [
    {
     "name": "stdout",
     "output_type": "stream",
     "text": [
      "(8000, 2)\n",
      "(2000, 2)\n",
      "(8000,)\n",
      "(2000,)\n"
     ]
    }
   ],
   "source": [
    "print(X_train.shape)\n",
    "print(X_test.shape)\n",
    "print(y_train.shape)\n",
    "print(y_test.shape)"
   ]
  },
  {
   "cell_type": "code",
   "execution_count": 4,
   "metadata": {},
   "outputs": [],
   "source": [
    "from sklearn.tree import DecisionTreeClassifier\n",
    "from sklearn.model_selection import GridSearchCV"
   ]
  },
  {
   "cell_type": "code",
   "execution_count": 5,
   "metadata": {},
   "outputs": [
    {
     "name": "stdout",
     "output_type": "stream",
     "text": [
      "Fitting 3 folds for each of 294 candidates, totalling 882 fits\n"
     ]
    },
    {
     "data": {
      "text/plain": [
       "GridSearchCV(cv=3, estimator=DecisionTreeClassifier(random_state=42),\n",
       "             param_grid={'max_leaf_nodes': [2, 3, 4, 5, 6, 7, 8, 9, 10, 11, 12,\n",
       "                                            13, 14, 15, 16, 17, 18, 19, 20, 21,\n",
       "                                            22, 23, 24, 25, 26, 27, 28, 29, 30,\n",
       "                                            31, ...],\n",
       "                         'min_samples_split': [2, 3, 4]},\n",
       "             verbose=1)"
      ]
     },
     "execution_count": 5,
     "metadata": {},
     "output_type": "execute_result"
    }
   ],
   "source": [
    "# 3. Use grid search with cross-validation (with the help of the GridSearchCV class) to find good hyperparameter values for a DecisionTreeClassifier. Hint: try various values for max_leaf_nodes.\n",
    "\n",
    "\n",
    "params = {'max_leaf_nodes': list(range(2, 100)), 'min_samples_split': [2, 3, 4]}\n",
    "grid_search_cv = GridSearchCV(DecisionTreeClassifier(random_state=42), params, verbose=1, cv=3)\n",
    "\n",
    "grid_search_cv.fit(X_train, y_train)"
   ]
  },
  {
   "cell_type": "code",
   "execution_count": 6,
   "metadata": {},
   "outputs": [
    {
     "data": {
      "text/plain": [
       "DecisionTreeClassifier(max_leaf_nodes=17, random_state=42)"
      ]
     },
     "execution_count": 6,
     "metadata": {},
     "output_type": "execute_result"
    }
   ],
   "source": [
    "grid_search_cv.best_estimator_"
   ]
  },
  {
   "cell_type": "code",
   "execution_count": 7,
   "metadata": {},
   "outputs": [
    {
     "data": {
      "text/plain": [
       "0.8695"
      ]
     },
     "execution_count": 7,
     "metadata": {},
     "output_type": "execute_result"
    }
   ],
   "source": [
    "# 4. Train it on the full training set using these hyperparameters, and measure your model's performance on the test set. You should get roughly 85% to 87% accuracy.\n",
    "from sklearn.metrics import accuracy_score\n",
    "\n",
    "y_pred = grid_search_cv.predict(X_test)\n",
    "accuracy_score(y_test, y_pred)"
   ]
  },
  {
   "cell_type": "code",
   "execution_count": 23,
   "metadata": {},
   "outputs": [
    {
     "name": "stdout",
     "output_type": "stream",
     "text": [
      "10\n",
      "12\n",
      "14\n",
      "16\n",
      "18\n",
      "20\n",
      "22\n",
      "24\n",
      "26\n",
      "28\n",
      "30\n",
      "32\n",
      "34\n",
      "36\n",
      "38\n",
      "40\n",
      "42\n",
      "44\n",
      "46\n",
      "48\n",
      "50\n",
      "52\n",
      "54\n",
      "56\n",
      "58\n",
      "60\n",
      "62\n",
      "64\n",
      "66\n",
      "68\n",
      "70\n",
      "72\n",
      "74\n",
      "76\n",
      "78\n",
      "80\n",
      "82\n",
      "84\n",
      "86\n",
      "88\n",
      "90\n",
      "92\n",
      "94\n",
      "96\n",
      "98\n",
      "100\n"
     ]
    }
   ],
   "source": [
    "while_even_num = 10\n",
    "while while_even_num <= 100:\n",
    "    print(while_even_num)\n",
    "    while_even_num += 2"
   ]
  },
  {
   "cell_type": "code",
   "execution_count": 1,
   "metadata": {},
   "outputs": [
    {
     "name": "stdout",
     "output_type": "stream",
     "text": [
      "10\n",
      "12\n",
      "14\n",
      "16\n",
      "18\n",
      "20\n",
      "22\n",
      "24\n",
      "26\n",
      "28\n",
      "30\n",
      "32\n",
      "34\n",
      "36\n",
      "38\n",
      "40\n",
      "42\n",
      "44\n",
      "46\n",
      "48\n",
      "50\n",
      "52\n",
      "54\n",
      "56\n",
      "58\n",
      "60\n",
      "62\n",
      "64\n",
      "66\n",
      "68\n",
      "70\n",
      "72\n",
      "74\n",
      "76\n",
      "78\n",
      "80\n",
      "82\n",
      "84\n",
      "86\n",
      "88\n",
      "90\n",
      "92\n",
      "94\n",
      "96\n",
      "98\n"
     ]
    }
   ],
   "source": [
    "for even_num in range(10,100,2):\n",
    "    print(even_num) \n"
   ]
  },
  {
   "cell_type": "code",
   "execution_count": 6,
   "metadata": {},
   "outputs": [
    {
     "name": "stdout",
     "output_type": "stream",
     "text": [
      "999\n",
      "997\n",
      "995\n",
      "993\n",
      "991\n",
      "989\n",
      "987\n",
      "985\n",
      "983\n",
      "981\n",
      "979\n",
      "977\n",
      "975\n",
      "973\n",
      "971\n",
      "969\n",
      "967\n",
      "965\n",
      "963\n",
      "961\n",
      "959\n",
      "957\n",
      "955\n",
      "953\n",
      "951\n",
      "949\n",
      "947\n",
      "945\n",
      "943\n",
      "941\n",
      "939\n",
      "937\n",
      "935\n",
      "933\n",
      "931\n",
      "929\n",
      "927\n",
      "925\n",
      "923\n",
      "921\n",
      "919\n",
      "917\n",
      "915\n",
      "913\n",
      "911\n",
      "909\n",
      "907\n",
      "905\n",
      "903\n",
      "901\n",
      "899\n",
      "897\n",
      "895\n",
      "893\n",
      "891\n",
      "889\n",
      "887\n",
      "885\n",
      "883\n",
      "881\n",
      "879\n",
      "877\n",
      "875\n",
      "873\n",
      "871\n",
      "869\n",
      "867\n",
      "865\n",
      "863\n",
      "861\n",
      "859\n",
      "857\n",
      "855\n",
      "853\n",
      "851\n",
      "849\n",
      "847\n",
      "845\n",
      "843\n",
      "841\n",
      "839\n",
      "837\n",
      "835\n",
      "833\n",
      "831\n",
      "829\n",
      "827\n",
      "825\n",
      "823\n",
      "821\n",
      "819\n",
      "817\n",
      "815\n",
      "813\n",
      "811\n",
      "809\n",
      "807\n",
      "805\n",
      "803\n",
      "801\n",
      "799\n",
      "797\n",
      "795\n",
      "793\n",
      "791\n",
      "789\n",
      "787\n",
      "785\n",
      "783\n",
      "781\n",
      "779\n",
      "777\n"
     ]
    }
   ],
   "source": [
    "n= 999\n",
    "while n >= 777:\n",
    "    print(n)\n",
    "    n= n-2"
   ]
  },
  {
   "cell_type": "code",
   "execution_count": 25,
   "metadata": {},
   "outputs": [
    {
     "name": "stdout",
     "output_type": "stream",
     "text": [
      "999\n",
      "997\n",
      "995\n",
      "993\n",
      "991\n",
      "989\n",
      "987\n",
      "985\n",
      "983\n",
      "981\n",
      "979\n",
      "977\n",
      "975\n",
      "973\n",
      "971\n",
      "969\n",
      "967\n",
      "965\n",
      "963\n",
      "961\n",
      "959\n",
      "957\n",
      "955\n",
      "953\n",
      "951\n",
      "949\n",
      "947\n",
      "945\n",
      "943\n",
      "941\n",
      "939\n",
      "937\n",
      "935\n",
      "933\n",
      "931\n",
      "929\n",
      "927\n",
      "925\n",
      "923\n",
      "921\n",
      "919\n",
      "917\n",
      "915\n",
      "913\n",
      "911\n",
      "909\n",
      "907\n",
      "905\n",
      "903\n",
      "901\n",
      "899\n",
      "897\n",
      "895\n",
      "893\n",
      "891\n",
      "889\n",
      "887\n",
      "885\n",
      "883\n",
      "881\n",
      "879\n",
      "877\n",
      "875\n",
      "873\n",
      "871\n",
      "869\n",
      "867\n",
      "865\n",
      "863\n",
      "861\n",
      "859\n",
      "857\n",
      "855\n",
      "853\n",
      "851\n",
      "849\n",
      "847\n",
      "845\n",
      "843\n",
      "841\n",
      "839\n",
      "837\n",
      "835\n",
      "833\n",
      "831\n",
      "829\n",
      "827\n",
      "825\n",
      "823\n",
      "821\n",
      "819\n",
      "817\n",
      "815\n",
      "813\n",
      "811\n",
      "809\n",
      "807\n",
      "805\n",
      "803\n",
      "801\n",
      "799\n",
      "797\n",
      "795\n",
      "793\n",
      "791\n",
      "789\n",
      "787\n",
      "785\n",
      "783\n",
      "781\n",
      "779\n"
     ]
    }
   ],
   "source": [
    "\n",
    "for odd_num in range(999,777,-2):\n",
    "    print(odd_num)\n",
    "    "
   ]
  },
  {
   "cell_type": "code",
   "execution_count": 11,
   "metadata": {},
   "outputs": [
    {
     "name": "stdout",
     "output_type": "stream",
     "text": [
      "20\n",
      "40\n",
      "80\n",
      "160\n",
      "320\n",
      "640\n",
      "1280\n",
      "2560\n",
      "5120\n",
      "10240\n",
      "20480\n",
      "40960\n"
     ]
    }
   ],
   "source": [
    "double_num = 20\n",
    "while double_num <= 50000:\n",
    "    print(double_num )\n",
    "    double_num= double_num*2  "
   ]
  },
  {
   "cell_type": "code",
   "execution_count": 22,
   "metadata": {},
   "outputs": [
    {
     "name": "stdout",
     "output_type": "stream",
     "text": [
      "\n",
      " Using While Loop \n",
      "\n",
      "Programming Python\n",
      "Programming Python\n",
      "\n",
      " Using While Loop \n",
      "\n",
      "Programming Python\n",
      "Programming Python\n"
     ]
    }
   ],
   "source": [
    "\n",
    "repet_num = int(input(\"Please Enter Number\"))\n",
    "print (\"\\n Using For Loop \\n\")\n",
    "for i in range(repet_num):\n",
    "    print(\"Programming Python\")\n",
    "\n",
    "print (\"\\n Using While Loop \\n\")\n",
    "\n",
    "int_num = 0\n",
    "while repet_num > int_num:\n",
    "     print(\"Programming Python\")\n",
    "     int_num += 1\n"
   ]
  },
  {
   "cell_type": "code",
   "execution_count": 17,
   "metadata": {},
   "outputs": [
    {
     "name": "stdout",
     "output_type": "stream",
     "text": [
      "Programming Python\n",
      "Programming Python\n",
      "Programming Python\n",
      "Programming Python\n",
      "Programming Python\n"
     ]
    }
   ],
   "source": [
    "\n",
    "int_num = 0\n",
    "while repet_num > int_num:\n",
    "     print(\"Programming Python\")\n",
    "     int_num += 1"
   ]
  },
  {
   "cell_type": "code",
   "execution_count": null,
   "metadata": {},
   "outputs": [],
   "source": []
  }
 ],
 "metadata": {
  "interpreter": {
   "hash": "26de051ba29f2982a8de78e945f0abaf191376122a1563185a90213a26c5da77"
  },
  "kernelspec": {
   "display_name": "Python 3.10.0 64-bit",
   "language": "python",
   "name": "python3"
  },
  "language_info": {
   "codemirror_mode": {
    "name": "ipython",
    "version": 3
   },
   "file_extension": ".py",
   "mimetype": "text/x-python",
   "name": "python",
   "nbconvert_exporter": "python",
   "pygments_lexer": "ipython3",
   "version": "3.10.0"
  },
  "orig_nbformat": 4
 },
 "nbformat": 4,
 "nbformat_minor": 2
}
