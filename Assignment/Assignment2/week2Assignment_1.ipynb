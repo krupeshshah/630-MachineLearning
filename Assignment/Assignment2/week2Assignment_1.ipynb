{
 "cells": [
  {
   "cell_type": "code",
   "execution_count": 1,
   "metadata": {},
   "outputs": [],
   "source": [
    "# Importing Library\n",
    "import pandas as pd\n",
    "import numpy as np"
   ]
  },
  {
   "cell_type": "code",
   "execution_count": 72,
   "metadata": {},
   "outputs": [],
   "source": [
    "# faching data from housing csv\n",
    "housing_data = pd.read_csv('housing/housing.csv')"
   ]
  },
  {
   "cell_type": "code",
   "execution_count": 73,
   "metadata": {},
   "outputs": [
    {
     "data": {
      "text/html": [
       "<div>\n",
       "<style scoped>\n",
       "    .dataframe tbody tr th:only-of-type {\n",
       "        vertical-align: middle;\n",
       "    }\n",
       "\n",
       "    .dataframe tbody tr th {\n",
       "        vertical-align: top;\n",
       "    }\n",
       "\n",
       "    .dataframe thead th {\n",
       "        text-align: right;\n",
       "    }\n",
       "</style>\n",
       "<table border=\"1\" class=\"dataframe\">\n",
       "  <thead>\n",
       "    <tr style=\"text-align: right;\">\n",
       "      <th></th>\n",
       "      <th>longitude</th>\n",
       "      <th>latitude</th>\n",
       "      <th>housing_median_age</th>\n",
       "      <th>total_rooms</th>\n",
       "      <th>total_bedrooms</th>\n",
       "      <th>population</th>\n",
       "      <th>households</th>\n",
       "      <th>median_income</th>\n",
       "      <th>median_house_value</th>\n",
       "      <th>ocean_proximity</th>\n",
       "    </tr>\n",
       "  </thead>\n",
       "  <tbody>\n",
       "    <tr>\n",
       "      <th>0</th>\n",
       "      <td>-122.23</td>\n",
       "      <td>37.88</td>\n",
       "      <td>41.0</td>\n",
       "      <td>880.0</td>\n",
       "      <td>129.0</td>\n",
       "      <td>322.0</td>\n",
       "      <td>126.0</td>\n",
       "      <td>8.3252</td>\n",
       "      <td>452600.0</td>\n",
       "      <td>NEAR BAY</td>\n",
       "    </tr>\n",
       "    <tr>\n",
       "      <th>1</th>\n",
       "      <td>-122.22</td>\n",
       "      <td>37.86</td>\n",
       "      <td>21.0</td>\n",
       "      <td>7099.0</td>\n",
       "      <td>1106.0</td>\n",
       "      <td>2401.0</td>\n",
       "      <td>1138.0</td>\n",
       "      <td>8.3014</td>\n",
       "      <td>358500.0</td>\n",
       "      <td>NEAR BAY</td>\n",
       "    </tr>\n",
       "    <tr>\n",
       "      <th>2</th>\n",
       "      <td>-122.24</td>\n",
       "      <td>37.85</td>\n",
       "      <td>52.0</td>\n",
       "      <td>1467.0</td>\n",
       "      <td>190.0</td>\n",
       "      <td>496.0</td>\n",
       "      <td>177.0</td>\n",
       "      <td>7.2574</td>\n",
       "      <td>352100.0</td>\n",
       "      <td>NEAR BAY</td>\n",
       "    </tr>\n",
       "    <tr>\n",
       "      <th>3</th>\n",
       "      <td>-122.25</td>\n",
       "      <td>37.85</td>\n",
       "      <td>52.0</td>\n",
       "      <td>1274.0</td>\n",
       "      <td>235.0</td>\n",
       "      <td>558.0</td>\n",
       "      <td>219.0</td>\n",
       "      <td>5.6431</td>\n",
       "      <td>341300.0</td>\n",
       "      <td>NEAR BAY</td>\n",
       "    </tr>\n",
       "    <tr>\n",
       "      <th>4</th>\n",
       "      <td>-122.25</td>\n",
       "      <td>37.85</td>\n",
       "      <td>52.0</td>\n",
       "      <td>1627.0</td>\n",
       "      <td>280.0</td>\n",
       "      <td>565.0</td>\n",
       "      <td>259.0</td>\n",
       "      <td>3.8462</td>\n",
       "      <td>342200.0</td>\n",
       "      <td>NEAR BAY</td>\n",
       "    </tr>\n",
       "  </tbody>\n",
       "</table>\n",
       "</div>"
      ],
      "text/plain": [
       "   longitude  latitude  housing_median_age  total_rooms  total_bedrooms  \\\n",
       "0    -122.23     37.88                41.0        880.0           129.0   \n",
       "1    -122.22     37.86                21.0       7099.0          1106.0   \n",
       "2    -122.24     37.85                52.0       1467.0           190.0   \n",
       "3    -122.25     37.85                52.0       1274.0           235.0   \n",
       "4    -122.25     37.85                52.0       1627.0           280.0   \n",
       "\n",
       "   population  households  median_income  median_house_value ocean_proximity  \n",
       "0       322.0       126.0         8.3252            452600.0        NEAR BAY  \n",
       "1      2401.0      1138.0         8.3014            358500.0        NEAR BAY  \n",
       "2       496.0       177.0         7.2574            352100.0        NEAR BAY  \n",
       "3       558.0       219.0         5.6431            341300.0        NEAR BAY  \n",
       "4       565.0       259.0         3.8462            342200.0        NEAR BAY  "
      ]
     },
     "execution_count": 73,
     "metadata": {},
     "output_type": "execute_result"
    }
   ],
   "source": [
    "# printing top 5 records from the datafarmes\n",
    "housing_data.head()"
   ]
  },
  {
   "cell_type": "code",
   "execution_count": 74,
   "metadata": {},
   "outputs": [
    {
     "name": "stdout",
     "output_type": "stream",
     "text": [
      "<class 'pandas.core.frame.DataFrame'>\n",
      "RangeIndex: 20640 entries, 0 to 20639\n",
      "Data columns (total 10 columns):\n",
      " #   Column              Non-Null Count  Dtype  \n",
      "---  ------              --------------  -----  \n",
      " 0   longitude           20640 non-null  float64\n",
      " 1   latitude            20640 non-null  float64\n",
      " 2   housing_median_age  20640 non-null  float64\n",
      " 3   total_rooms         20640 non-null  float64\n",
      " 4   total_bedrooms      20433 non-null  float64\n",
      " 5   population          20640 non-null  float64\n",
      " 6   households          20640 non-null  float64\n",
      " 7   median_income       20640 non-null  float64\n",
      " 8   median_house_value  20640 non-null  float64\n",
      " 9   ocean_proximity     20640 non-null  object \n",
      "dtypes: float64(9), object(1)\n",
      "memory usage: 1.6+ MB\n"
     ]
    }
   ],
   "source": [
    "housing_data.info()"
   ]
  },
  {
   "cell_type": "code",
   "execution_count": 75,
   "metadata": {},
   "outputs": [
    {
     "data": {
      "text/plain": [
       "(20640, 10)"
      ]
     },
     "execution_count": 75,
     "metadata": {},
     "output_type": "execute_result"
    }
   ],
   "source": [
    "# chaking shape of data from output no of row and column\n",
    "housing_data.shape"
   ]
  },
  {
   "cell_type": "code",
   "execution_count": 76,
   "metadata": {},
   "outputs": [
    {
     "data": {
      "text/html": [
       "<div>\n",
       "<style scoped>\n",
       "    .dataframe tbody tr th:only-of-type {\n",
       "        vertical-align: middle;\n",
       "    }\n",
       "\n",
       "    .dataframe tbody tr th {\n",
       "        vertical-align: top;\n",
       "    }\n",
       "\n",
       "    .dataframe thead th {\n",
       "        text-align: right;\n",
       "    }\n",
       "</style>\n",
       "<table border=\"1\" class=\"dataframe\">\n",
       "  <thead>\n",
       "    <tr style=\"text-align: right;\">\n",
       "      <th></th>\n",
       "      <th>longitude</th>\n",
       "      <th>latitude</th>\n",
       "      <th>housing_median_age</th>\n",
       "      <th>total_rooms</th>\n",
       "      <th>total_bedrooms</th>\n",
       "      <th>population</th>\n",
       "      <th>households</th>\n",
       "      <th>median_income</th>\n",
       "      <th>median_house_value</th>\n",
       "    </tr>\n",
       "  </thead>\n",
       "  <tbody>\n",
       "    <tr>\n",
       "      <th>count</th>\n",
       "      <td>20640.000000</td>\n",
       "      <td>20640.000000</td>\n",
       "      <td>20640.000000</td>\n",
       "      <td>20640.000000</td>\n",
       "      <td>20433.000000</td>\n",
       "      <td>20640.000000</td>\n",
       "      <td>20640.000000</td>\n",
       "      <td>20640.000000</td>\n",
       "      <td>20640.000000</td>\n",
       "    </tr>\n",
       "    <tr>\n",
       "      <th>mean</th>\n",
       "      <td>-119.569704</td>\n",
       "      <td>35.631861</td>\n",
       "      <td>28.639486</td>\n",
       "      <td>2635.763081</td>\n",
       "      <td>537.870553</td>\n",
       "      <td>1425.476744</td>\n",
       "      <td>499.539680</td>\n",
       "      <td>3.870671</td>\n",
       "      <td>206855.816909</td>\n",
       "    </tr>\n",
       "    <tr>\n",
       "      <th>std</th>\n",
       "      <td>2.003532</td>\n",
       "      <td>2.135952</td>\n",
       "      <td>12.585558</td>\n",
       "      <td>2181.615252</td>\n",
       "      <td>421.385070</td>\n",
       "      <td>1132.462122</td>\n",
       "      <td>382.329753</td>\n",
       "      <td>1.899822</td>\n",
       "      <td>115395.615874</td>\n",
       "    </tr>\n",
       "    <tr>\n",
       "      <th>min</th>\n",
       "      <td>-124.350000</td>\n",
       "      <td>32.540000</td>\n",
       "      <td>1.000000</td>\n",
       "      <td>2.000000</td>\n",
       "      <td>1.000000</td>\n",
       "      <td>3.000000</td>\n",
       "      <td>1.000000</td>\n",
       "      <td>0.499900</td>\n",
       "      <td>14999.000000</td>\n",
       "    </tr>\n",
       "    <tr>\n",
       "      <th>25%</th>\n",
       "      <td>-121.800000</td>\n",
       "      <td>33.930000</td>\n",
       "      <td>18.000000</td>\n",
       "      <td>1447.750000</td>\n",
       "      <td>296.000000</td>\n",
       "      <td>787.000000</td>\n",
       "      <td>280.000000</td>\n",
       "      <td>2.563400</td>\n",
       "      <td>119600.000000</td>\n",
       "    </tr>\n",
       "    <tr>\n",
       "      <th>50%</th>\n",
       "      <td>-118.490000</td>\n",
       "      <td>34.260000</td>\n",
       "      <td>29.000000</td>\n",
       "      <td>2127.000000</td>\n",
       "      <td>435.000000</td>\n",
       "      <td>1166.000000</td>\n",
       "      <td>409.000000</td>\n",
       "      <td>3.534800</td>\n",
       "      <td>179700.000000</td>\n",
       "    </tr>\n",
       "    <tr>\n",
       "      <th>75%</th>\n",
       "      <td>-118.010000</td>\n",
       "      <td>37.710000</td>\n",
       "      <td>37.000000</td>\n",
       "      <td>3148.000000</td>\n",
       "      <td>647.000000</td>\n",
       "      <td>1725.000000</td>\n",
       "      <td>605.000000</td>\n",
       "      <td>4.743250</td>\n",
       "      <td>264725.000000</td>\n",
       "    </tr>\n",
       "    <tr>\n",
       "      <th>max</th>\n",
       "      <td>-114.310000</td>\n",
       "      <td>41.950000</td>\n",
       "      <td>52.000000</td>\n",
       "      <td>39320.000000</td>\n",
       "      <td>6445.000000</td>\n",
       "      <td>35682.000000</td>\n",
       "      <td>6082.000000</td>\n",
       "      <td>15.000100</td>\n",
       "      <td>500001.000000</td>\n",
       "    </tr>\n",
       "  </tbody>\n",
       "</table>\n",
       "</div>"
      ],
      "text/plain": [
       "          longitude      latitude  housing_median_age   total_rooms  \\\n",
       "count  20640.000000  20640.000000        20640.000000  20640.000000   \n",
       "mean    -119.569704     35.631861           28.639486   2635.763081   \n",
       "std        2.003532      2.135952           12.585558   2181.615252   \n",
       "min     -124.350000     32.540000            1.000000      2.000000   \n",
       "25%     -121.800000     33.930000           18.000000   1447.750000   \n",
       "50%     -118.490000     34.260000           29.000000   2127.000000   \n",
       "75%     -118.010000     37.710000           37.000000   3148.000000   \n",
       "max     -114.310000     41.950000           52.000000  39320.000000   \n",
       "\n",
       "       total_bedrooms    population    households  median_income  \\\n",
       "count    20433.000000  20640.000000  20640.000000   20640.000000   \n",
       "mean       537.870553   1425.476744    499.539680       3.870671   \n",
       "std        421.385070   1132.462122    382.329753       1.899822   \n",
       "min          1.000000      3.000000      1.000000       0.499900   \n",
       "25%        296.000000    787.000000    280.000000       2.563400   \n",
       "50%        435.000000   1166.000000    409.000000       3.534800   \n",
       "75%        647.000000   1725.000000    605.000000       4.743250   \n",
       "max       6445.000000  35682.000000   6082.000000      15.000100   \n",
       "\n",
       "       median_house_value  \n",
       "count        20640.000000  \n",
       "mean        206855.816909  \n",
       "std         115395.615874  \n",
       "min          14999.000000  \n",
       "25%         119600.000000  \n",
       "50%         179700.000000  \n",
       "75%         264725.000000  \n",
       "max         500001.000000  "
      ]
     },
     "execution_count": 76,
     "metadata": {},
     "output_type": "execute_result"
    }
   ],
   "source": [
    "# return count, mean, standard deviation\n",
    "housing_data.describe()"
   ]
  },
  {
   "cell_type": "code",
   "execution_count": 77,
   "metadata": {},
   "outputs": [
    {
     "data": {
      "text/plain": [
       "<1H OCEAN     9136\n",
       "INLAND        6551\n",
       "NEAR OCEAN    2658\n",
       "NEAR BAY      2290\n",
       "ISLAND           5\n",
       "Name: ocean_proximity, dtype: int64"
      ]
     },
     "execution_count": 77,
     "metadata": {},
     "output_type": "execute_result"
    }
   ],
   "source": [
    "housing_data['ocean_proximity'].value_counts()"
   ]
  },
  {
   "cell_type": "code",
   "execution_count": 78,
   "metadata": {},
   "outputs": [
    {
     "data": {
      "image/png": "[encoded data removed]",
      "text/plain": [
       "<Figure size 1440x1080 with 9 Axes>"
      ]
     },
     "metadata": {
      "needs_background": "light"
     },
     "output_type": "display_data"
    }
   ],
   "source": [
    "# importing Matpolt lib for ploting a graph\n",
    "%matplotlib inline\n",
    "import matplotlib.pyplot as plt\n",
    "housing_data.hist(bins=50, figsize=(20,15))\n",
    "plt.show()"
   ]
  },
  {
   "cell_type": "code",
   "execution_count": 111,
   "metadata": {},
   "outputs": [
    {
     "data": {
      "text/plain": [
       "<AxesSubplot:>"
      ]
     },
     "execution_count": 111,
     "metadata": {},
     "output_type": "execute_result"
    },
    {
     "data": {
      "image/png": "[encoded data removed]",
      "text/plain": [
       "<Figure size 720x720 with 2 Axes>"
      ]
     },
     "metadata": {
      "needs_background": "light"
     },
     "output_type": "display_data"
    }
   ],
   "source": [
    "# import seaborn for correlation heat map\n",
    "import seaborn as sns\n",
    "corr = housing_data.corr()\n",
    "corr.shape\n",
    "plt.figure(figsize=(10,10))\n",
    "sns.heatmap(corr, cbar=True, square= True, fmt='.1f', annot=True, annot_kws={'size':15}, cmap='Greens')"
   ]
  },
  {
   "cell_type": "code",
   "execution_count": 80,
   "metadata": {},
   "outputs": [],
   "source": [
    "# Checking for null records\n",
    "housing_data.isnull().sum()"
   ]
  },
  {
   "cell_type": "code",
   "execution_count": 81,
   "metadata": {},
   "outputs": [],
   "source": [
    "# Drop the null data\n",
    "housing_data = housing_data.dropna()"
   ]
  },
  {
   "cell_type": "code",
   "execution_count": 82,
   "metadata": {},
   "outputs": [],
   "source": [
    "# Checking shape of data after drop null column\n",
    "housing_data.shape"
   ]
  },
  {
   "cell_type": "code",
   "execution_count": 83,
   "metadata": {},
   "outputs": [],
   "source": [
    "# Check null records after cleaning null data\n",
    "housing_data.isnull().sum()"
   ]
  },
  {
   "cell_type": "code",
   "execution_count": 87,
   "metadata": {},
   "outputs": [
    {
     "data": {
      "text/plain": [
       "<AxesSubplot:>"
      ]
     },
     "execution_count": 87,
     "metadata": {},
     "output_type": "execute_result"
    },
    {
     "data": {
      "image/png": "[encoded data removed]",
      "text/plain": [
       "<Figure size 432x288 with 1 Axes>"
      ]
     },
     "metadata": {
      "needs_background": "light"
     },
     "output_type": "display_data"
    }
   ],
   "source": [
    "# histogram for median income.\n",
    "housing_data[\"median_income\"].hist()"
   ]
  },
  {
   "cell_type": "code",
   "execution_count": 88,
   "metadata": {},
   "outputs": [],
   "source": [
    "# here using cuts making a group based on median income.\n",
    "housing_data['income_cat'] = pd.cut(x = housing_data['median_income'],\n",
    "                        bins = [0, 1.5, 3.0, 4.5, 6.0, np.inf],\n",
    "                        labels = [1, 2, 3, 4, 5])"
   ]
  },
  {
   "cell_type": "code",
   "execution_count": 89,
   "metadata": {},
   "outputs": [
    {
     "data": {
      "text/html": [
       "<div>\n",
       "<style scoped>\n",
       "    .dataframe tbody tr th:only-of-type {\n",
       "        vertical-align: middle;\n",
       "    }\n",
       "\n",
       "    .dataframe tbody tr th {\n",
       "        vertical-align: top;\n",
       "    }\n",
       "\n",
       "    .dataframe thead th {\n",
       "        text-align: right;\n",
       "    }\n",
       "</style>\n",
       "<table border=\"1\" class=\"dataframe\">\n",
       "  <thead>\n",
       "    <tr style=\"text-align: right;\">\n",
       "      <th></th>\n",
       "      <th>longitude</th>\n",
       "      <th>latitude</th>\n",
       "      <th>housing_median_age</th>\n",
       "      <th>total_rooms</th>\n",
       "      <th>total_bedrooms</th>\n",
       "      <th>population</th>\n",
       "      <th>households</th>\n",
       "      <th>median_income</th>\n",
       "      <th>median_house_value</th>\n",
       "      <th>ocean_proximity</th>\n",
       "      <th>income_cat</th>\n",
       "    </tr>\n",
       "  </thead>\n",
       "  <tbody>\n",
       "    <tr>\n",
       "      <th>0</th>\n",
       "      <td>-122.23</td>\n",
       "      <td>37.88</td>\n",
       "      <td>41.0</td>\n",
       "      <td>880.0</td>\n",
       "      <td>129.0</td>\n",
       "      <td>322.0</td>\n",
       "      <td>126.0</td>\n",
       "      <td>8.3252</td>\n",
       "      <td>452600.0</td>\n",
       "      <td>NEAR BAY</td>\n",
       "      <td>5</td>\n",
       "    </tr>\n",
       "    <tr>\n",
       "      <th>1</th>\n",
       "      <td>-122.22</td>\n",
       "      <td>37.86</td>\n",
       "      <td>21.0</td>\n",
       "      <td>7099.0</td>\n",
       "      <td>1106.0</td>\n",
       "      <td>2401.0</td>\n",
       "      <td>1138.0</td>\n",
       "      <td>8.3014</td>\n",
       "      <td>358500.0</td>\n",
       "      <td>NEAR BAY</td>\n",
       "      <td>5</td>\n",
       "    </tr>\n",
       "    <tr>\n",
       "      <th>2</th>\n",
       "      <td>-122.24</td>\n",
       "      <td>37.85</td>\n",
       "      <td>52.0</td>\n",
       "      <td>1467.0</td>\n",
       "      <td>190.0</td>\n",
       "      <td>496.0</td>\n",
       "      <td>177.0</td>\n",
       "      <td>7.2574</td>\n",
       "      <td>352100.0</td>\n",
       "      <td>NEAR BAY</td>\n",
       "      <td>5</td>\n",
       "    </tr>\n",
       "    <tr>\n",
       "      <th>3</th>\n",
       "      <td>-122.25</td>\n",
       "      <td>37.85</td>\n",
       "      <td>52.0</td>\n",
       "      <td>1274.0</td>\n",
       "      <td>235.0</td>\n",
       "      <td>558.0</td>\n",
       "      <td>219.0</td>\n",
       "      <td>5.6431</td>\n",
       "      <td>341300.0</td>\n",
       "      <td>NEAR BAY</td>\n",
       "      <td>4</td>\n",
       "    </tr>\n",
       "    <tr>\n",
       "      <th>4</th>\n",
       "      <td>-122.25</td>\n",
       "      <td>37.85</td>\n",
       "      <td>52.0</td>\n",
       "      <td>1627.0</td>\n",
       "      <td>280.0</td>\n",
       "      <td>565.0</td>\n",
       "      <td>259.0</td>\n",
       "      <td>3.8462</td>\n",
       "      <td>342200.0</td>\n",
       "      <td>NEAR BAY</td>\n",
       "      <td>3</td>\n",
       "    </tr>\n",
       "  </tbody>\n",
       "</table>\n",
       "</div>"
      ],
      "text/plain": [
       "   longitude  latitude  housing_median_age  total_rooms  total_bedrooms  \\\n",
       "0    -122.23     37.88                41.0        880.0           129.0   \n",
       "1    -122.22     37.86                21.0       7099.0          1106.0   \n",
       "2    -122.24     37.85                52.0       1467.0           190.0   \n",
       "3    -122.25     37.85                52.0       1274.0           235.0   \n",
       "4    -122.25     37.85                52.0       1627.0           280.0   \n",
       "\n",
       "   population  households  median_income  median_house_value ocean_proximity  \\\n",
       "0       322.0       126.0         8.3252            452600.0        NEAR BAY   \n",
       "1      2401.0      1138.0         8.3014            358500.0        NEAR BAY   \n",
       "2       496.0       177.0         7.2574            352100.0        NEAR BAY   \n",
       "3       558.0       219.0         5.6431            341300.0        NEAR BAY   \n",
       "4       565.0       259.0         3.8462            342200.0        NEAR BAY   \n",
       "\n",
       "  income_cat  \n",
       "0          5  \n",
       "1          5  \n",
       "2          5  \n",
       "3          4  \n",
       "4          3  "
      ]
     },
     "execution_count": 89,
     "metadata": {},
     "output_type": "execute_result"
    }
   ],
   "source": [
    "housing_data.head()"
   ]
  },
  {
   "cell_type": "code",
   "execution_count": 90,
   "metadata": {},
   "outputs": [
    {
     "data": {
      "text/plain": [
       "<AxesSubplot:>"
      ]
     },
     "execution_count": 90,
     "metadata": {},
     "output_type": "execute_result"
    },
    {
     "data": {
      "image/png": "[encoded data removed]",
      "text/plain": [
       "<Figure size 432x288 with 1 Axes>"
      ]
     },
     "metadata": {
      "needs_background": "light"
     },
     "output_type": "display_data"
    }
   ],
   "source": [
    "housing_data[\"income_cat\"].hist()"
   ]
  },
  {
   "cell_type": "code",
   "execution_count": 91,
   "metadata": {},
   "outputs": [],
   "source": [
    "from sklearn.model_selection import StratifiedShuffleSplit"
   ]
  },
  {
   "cell_type": "code",
   "execution_count": 92,
   "metadata": {},
   "outputs": [],
   "source": [
    "# Spliting record for training and testing set\n",
    "\n",
    "split = StratifiedShuffleSplit(n_splits=1, test_size=0.2, random_state=42)\n",
    "\n",
    "for train_index, test_index in split.split(housing_data, housing_data[\"income_cat\"]):\n",
    "    \n",
    "                                                strat_train_set = housing_data.loc[train_index]\n",
    "        \n",
    "                                                strat_test_set = housing_data.loc[test_index]"
   ]
  },
  {
   "cell_type": "code",
   "execution_count": 97,
   "metadata": {},
   "outputs": [],
   "source": [
    "def feature_engineering(data):\n",
    "    data[\"rooms_per_household\"] = data[\"total_rooms\"]/data[\"households\"]\n",
    "    data[\"bedrooms_per_room\"] = data[\"total_bedrooms\"]/data[\"total_rooms\"]\n",
    "    data[\"population_per_household\"]=data[\"population\"]/data[\"households\"]\n",
    "    return data"
   ]
  },
  {
   "cell_type": "code",
   "execution_count": 106,
   "metadata": {},
   "outputs": [],
   "source": [
    "def data_transformation(data):    \n",
    "    # Seperate Labels\n",
    "    if 'median_house_value' in data.columns:\n",
    "        labels = data['median_house_value']\n",
    "        data = data.drop('median_house_value', axis = 1)        \n",
    "    else:        \n",
    "        labels = None        \n",
    "    # Feature Engineering\n",
    "    fed = feature_engineering(data)\n",
    "    features = fed.columns.to_list()\n",
    "    features.remove('ocean_proximity')\n",
    "    fedc = fed['ocean_proximity'].copy()\n",
    "    fed = fed.drop('ocean_proximity', axis = 1) \n",
    "    # Handling Missing Values\n",
    "    from sklearn.impute import SimpleImputer\n",
    "    imp = SimpleImputer(strategy='median')\n",
    "    data_imp = imp.fit_transform(fed)        \n",
    "    # Scaling/Normalizing Data\n",
    "    from sklearn.preprocessing import StandardScaler\n",
    "    sc = StandardScaler()\n",
    "    scaled_data = sc.fit_transform(data_imp)\n",
    "        \n",
    "    # Encoding Categorical Variables\n",
    "    from sklearn.preprocessing import OneHotEncoder\n",
    "    enc = OneHotEncoder(sparse=False)\n",
    "    arr = fedc.values\n",
    "    arr = arr.reshape(-1, 1)\n",
    "    data_e = enc.fit_transform(arr)\n",
    "    features = features + enc.categories_[0].tolist()\n",
    "    \n",
    "    output = np.hstack((scaled_data, data_e))\n",
    "    \n",
    "    return output, labels, features"
   ]
  },
  {
   "cell_type": "code",
   "execution_count": 107,
   "metadata": {},
   "outputs": [],
   "source": [
    "train_data, train_labels, features = data_transformation(strat_train_set)"
   ]
  },
  {
   "cell_type": "code",
   "execution_count": 100,
   "metadata": {},
   "outputs": [
    {
     "data": {
      "text/html": [
       "<div>\n",
       "<style scoped>\n",
       "    .dataframe tbody tr th:only-of-type {\n",
       "        vertical-align: middle;\n",
       "    }\n",
       "\n",
       "    .dataframe tbody tr th {\n",
       "        vertical-align: top;\n",
       "    }\n",
       "\n",
       "    .dataframe thead th {\n",
       "        text-align: right;\n",
       "    }\n",
       "</style>\n",
       "<table border=\"1\" class=\"dataframe\">\n",
       "  <thead>\n",
       "    <tr style=\"text-align: right;\">\n",
       "      <th></th>\n",
       "      <th>0</th>\n",
       "      <th>1</th>\n",
       "      <th>2</th>\n",
       "      <th>3</th>\n",
       "      <th>4</th>\n",
       "      <th>5</th>\n",
       "      <th>6</th>\n",
       "      <th>7</th>\n",
       "      <th>8</th>\n",
       "      <th>9</th>\n",
       "      <th>10</th>\n",
       "      <th>11</th>\n",
       "      <th>12</th>\n",
       "      <th>13</th>\n",
       "      <th>14</th>\n",
       "      <th>15</th>\n",
       "      <th>16</th>\n",
       "    </tr>\n",
       "  </thead>\n",
       "  <tbody>\n",
       "    <tr>\n",
       "      <th>0</th>\n",
       "      <td>-0.941350</td>\n",
       "      <td>1.347438</td>\n",
       "      <td>0.027564</td>\n",
       "      <td>0.584777</td>\n",
       "      <td>0.640371</td>\n",
       "      <td>0.732602</td>\n",
       "      <td>0.556286</td>\n",
       "      <td>-0.893647</td>\n",
       "      <td>-0.954687</td>\n",
       "      <td>0.017395</td>\n",
       "      <td>-0.122484</td>\n",
       "      <td>0.006223</td>\n",
       "      <td>0.0</td>\n",
       "      <td>1.0</td>\n",
       "      <td>0.0</td>\n",
       "      <td>0.0</td>\n",
       "      <td>0.0</td>\n",
       "    </tr>\n",
       "    <tr>\n",
       "      <th>1</th>\n",
       "      <td>1.171782</td>\n",
       "      <td>-1.192440</td>\n",
       "      <td>-1.722018</td>\n",
       "      <td>1.261467</td>\n",
       "      <td>0.781561</td>\n",
       "      <td>0.533612</td>\n",
       "      <td>0.721318</td>\n",
       "      <td>1.292168</td>\n",
       "      <td>1.890078</td>\n",
       "      <td>0.569256</td>\n",
       "      <td>-0.911663</td>\n",
       "      <td>-0.040811</td>\n",
       "      <td>0.0</td>\n",
       "      <td>0.0</td>\n",
       "      <td>0.0</td>\n",
       "      <td>0.0</td>\n",
       "      <td>1.0</td>\n",
       "    </tr>\n",
       "    <tr>\n",
       "      <th>2</th>\n",
       "      <td>0.267581</td>\n",
       "      <td>-0.125972</td>\n",
       "      <td>1.220460</td>\n",
       "      <td>-0.469773</td>\n",
       "      <td>-0.545138</td>\n",
       "      <td>-0.674675</td>\n",
       "      <td>-0.524407</td>\n",
       "      <td>-0.525434</td>\n",
       "      <td>-0.954687</td>\n",
       "      <td>-0.018024</td>\n",
       "      <td>-0.370939</td>\n",
       "      <td>-0.075371</td>\n",
       "      <td>0.0</td>\n",
       "      <td>1.0</td>\n",
       "      <td>0.0</td>\n",
       "      <td>0.0</td>\n",
       "      <td>0.0</td>\n",
       "    </tr>\n",
       "    <tr>\n",
       "      <th>3</th>\n",
       "      <td>1.221738</td>\n",
       "      <td>-1.351474</td>\n",
       "      <td>-0.370069</td>\n",
       "      <td>-0.348652</td>\n",
       "      <td>-0.036367</td>\n",
       "      <td>-0.467617</td>\n",
       "      <td>-0.037297</td>\n",
       "      <td>-0.865929</td>\n",
       "      <td>-0.954687</td>\n",
       "      <td>-0.595140</td>\n",
       "      <td>1.115873</td>\n",
       "      <td>-0.106803</td>\n",
       "      <td>0.0</td>\n",
       "      <td>0.0</td>\n",
       "      <td>0.0</td>\n",
       "      <td>0.0</td>\n",
       "      <td>1.0</td>\n",
       "    </tr>\n",
       "    <tr>\n",
       "      <th>4</th>\n",
       "      <td>0.437431</td>\n",
       "      <td>-0.635818</td>\n",
       "      <td>-0.131489</td>\n",
       "      <td>0.427179</td>\n",
       "      <td>0.272790</td>\n",
       "      <td>0.374060</td>\n",
       "      <td>0.220898</td>\n",
       "      <td>0.325752</td>\n",
       "      <td>-0.006432</td>\n",
       "      <td>0.251241</td>\n",
       "      <td>-0.526821</td>\n",
       "      <td>0.006109</td>\n",
       "      <td>1.0</td>\n",
       "      <td>0.0</td>\n",
       "      <td>0.0</td>\n",
       "      <td>0.0</td>\n",
       "      <td>0.0</td>\n",
       "    </tr>\n",
       "  </tbody>\n",
       "</table>\n",
       "</div>"
      ],
      "text/plain": [
       "         0         1         2         3         4         5         6   \\\n",
       "0 -0.941350  1.347438  0.027564  0.584777  0.640371  0.732602  0.556286   \n",
       "1  1.171782 -1.192440 -1.722018  1.261467  0.781561  0.533612  0.721318   \n",
       "2  0.267581 -0.125972  1.220460 -0.469773 -0.545138 -0.674675 -0.524407   \n",
       "3  1.221738 -1.351474 -0.370069 -0.348652 -0.036367 -0.467617 -0.037297   \n",
       "4  0.437431 -0.635818 -0.131489  0.427179  0.272790  0.374060  0.220898   \n",
       "\n",
       "         7         8         9         10        11   12   13   14   15   16  \n",
       "0 -0.893647 -0.954687  0.017395 -0.122484  0.006223  0.0  1.0  0.0  0.0  0.0  \n",
       "1  1.292168  1.890078  0.569256 -0.911663 -0.040811  0.0  0.0  0.0  0.0  1.0  \n",
       "2 -0.525434 -0.954687 -0.018024 -0.370939 -0.075371  0.0  1.0  0.0  0.0  0.0  \n",
       "3 -0.865929 -0.954687 -0.595140  1.115873 -0.106803  0.0  0.0  0.0  0.0  1.0  \n",
       "4  0.325752 -0.006432  0.251241 -0.526821  0.006109  1.0  0.0  0.0  0.0  0.0  "
      ]
     },
     "execution_count": 100,
     "metadata": {},
     "output_type": "execute_result"
    }
   ],
   "source": [
    "pd.DataFrame(train_data).head()"
   ]
  },
  {
   "cell_type": "code",
   "execution_count": 101,
   "metadata": {},
   "outputs": [
    {
     "data": {
      "text/plain": [
       "12655     72100.0\n",
       "15502    279600.0\n",
       "2908      82700.0\n",
       "14053    112500.0\n",
       "20496    238300.0\n",
       "1481     165700.0\n",
       "18125    412300.0\n",
       "5830     349600.0\n",
       "Name: median_house_value, dtype: float64"
      ]
     },
     "execution_count": 101,
     "metadata": {},
     "output_type": "execute_result"
    }
   ],
   "source": [
    "train_labels[:8]"
   ]
  },
  {
   "cell_type": "code",
   "execution_count": 108,
   "metadata": {},
   "outputs": [
    {
     "name": "stdout",
     "output_type": "stream",
     "text": [
      "Fitting 5 folds for each of 50 candidates, totalling 250 fits\n",
      "[CV] END ..............................C=10.0, kernel=linear; total time=  10.1s\n",
      "[CV] END ..............................C=10.0, kernel=linear; total time=   9.6s\n",
      "[CV] END ..............................C=10.0, kernel=linear; total time=   9.7s\n",
      "[CV] END ..............................C=10.0, kernel=linear; total time=  10.7s\n",
      "[CV] END ..............................C=10.0, kernel=linear; total time=   9.8s\n",
      "[CV] END ..............................C=30.0, kernel=linear; total time=  10.0s\n",
      "[CV] END ..............................C=30.0, kernel=linear; total time=   9.7s\n",
      "[CV] END ..............................C=30.0, kernel=linear; total time=   9.7s\n",
      "[CV] END ..............................C=30.0, kernel=linear; total time=  10.2s\n",
      "[CV] END ..............................C=30.0, kernel=linear; total time=  10.0s\n",
      "[CV] END .............................C=100.0, kernel=linear; total time=  10.6s\n",
      "[CV] END .............................C=100.0, kernel=linear; total time=  10.5s\n",
      "[CV] END .............................C=100.0, kernel=linear; total time=  10.7s\n",
      "[CV] END .............................C=100.0, kernel=linear; total time=   9.9s\n",
      "[CV] END .............................C=100.0, kernel=linear; total time=   9.9s\n",
      "[CV] END .............................C=300.0, kernel=linear; total time=   9.9s\n",
      "[CV] END .............................C=300.0, kernel=linear; total time=  10.6s\n",
      "[CV] END .............................C=300.0, kernel=linear; total time=  10.0s\n",
      "[CV] END .............................C=300.0, kernel=linear; total time=   9.8s\n",
      "[CV] END .............................C=300.0, kernel=linear; total time=  10.3s\n",
      "[CV] END ............................C=1000.0, kernel=linear; total time=  10.5s\n",
      "[CV] END ............................C=1000.0, kernel=linear; total time=  10.2s\n",
      "[CV] END ............................C=1000.0, kernel=linear; total time=  10.6s\n",
      "[CV] END ............................C=1000.0, kernel=linear; total time=  10.5s\n",
      "[CV] END ............................C=1000.0, kernel=linear; total time=  10.7s\n",
      "[CV] END ............................C=3000.0, kernel=linear; total time=  11.2s\n",
      "[CV] END ............................C=3000.0, kernel=linear; total time=  11.5s\n",
      "[CV] END ............................C=3000.0, kernel=linear; total time=  11.3s\n",
      "[CV] END ............................C=3000.0, kernel=linear; total time=  11.6s\n",
      "[CV] END ............................C=3000.0, kernel=linear; total time=  11.6s\n",
      "[CV] END ...........................C=10000.0, kernel=linear; total time=  14.3s\n",
      "[CV] END ...........................C=10000.0, kernel=linear; total time=  14.4s\n",
      "[CV] END ...........................C=10000.0, kernel=linear; total time=  14.1s\n",
      "[CV] END ...........................C=10000.0, kernel=linear; total time=  14.3s\n",
      "[CV] END ...........................C=10000.0, kernel=linear; total time=  14.4s\n",
      "[CV] END ...........................C=30000.0, kernel=linear; total time=  24.1s\n",
      "[CV] END ...........................C=30000.0, kernel=linear; total time=  23.4s\n",
      "[CV] END ...........................C=30000.0, kernel=linear; total time=  19.8s\n",
      "[CV] END ...........................C=30000.0, kernel=linear; total time=  18.6s\n",
      "[CV] END ...........................C=30000.0, kernel=linear; total time=  23.5s\n",
      "[CV] END ......................C=1.0, gamma=0.01, kernel=rbf; total time=  19.1s\n",
      "[CV] END ......................C=1.0, gamma=0.01, kernel=rbf; total time=  24.2s\n",
      "[CV] END ......................C=1.0, gamma=0.01, kernel=rbf; total time=  20.1s\n",
      "[CV] END ......................C=1.0, gamma=0.01, kernel=rbf; total time=  19.0s\n",
      "[CV] END ......................C=1.0, gamma=0.01, kernel=rbf; total time=  18.7s\n",
      "[CV] END ......................C=1.0, gamma=0.03, kernel=rbf; total time=  16.2s\n",
      "[CV] END ......................C=1.0, gamma=0.03, kernel=rbf; total time=  17.2s\n",
      "[CV] END ......................C=1.0, gamma=0.03, kernel=rbf; total time=  16.5s\n",
      "[CV] END ......................C=1.0, gamma=0.03, kernel=rbf; total time=  16.7s\n",
      "[CV] END ......................C=1.0, gamma=0.03, kernel=rbf; total time=  16.8s\n",
      "[CV] END .......................C=1.0, gamma=0.1, kernel=rbf; total time=  17.0s\n",
      "[CV] END .......................C=1.0, gamma=0.1, kernel=rbf; total time=  15.8s\n",
      "[CV] END .......................C=1.0, gamma=0.1, kernel=rbf; total time=  16.1s\n",
      "[CV] END .......................C=1.0, gamma=0.1, kernel=rbf; total time=  16.3s\n",
      "[CV] END .......................C=1.0, gamma=0.1, kernel=rbf; total time=  16.8s\n",
      "[CV] END .......................C=1.0, gamma=0.3, kernel=rbf; total time=  15.9s\n",
      "[CV] END .......................C=1.0, gamma=0.3, kernel=rbf; total time=  15.6s\n",
      "[CV] END .......................C=1.0, gamma=0.3, kernel=rbf; total time=  15.9s\n",
      "[CV] END .......................C=1.0, gamma=0.3, kernel=rbf; total time=  16.9s\n",
      "[CV] END .......................C=1.0, gamma=0.3, kernel=rbf; total time=  16.3s\n",
      "[CV] END .......................C=1.0, gamma=1.0, kernel=rbf; total time=  17.2s\n",
      "[CV] END .......................C=1.0, gamma=1.0, kernel=rbf; total time=  15.6s\n",
      "[CV] END .......................C=1.0, gamma=1.0, kernel=rbf; total time=  16.5s\n",
      "[CV] END .......................C=1.0, gamma=1.0, kernel=rbf; total time=  15.4s\n",
      "[CV] END .......................C=1.0, gamma=1.0, kernel=rbf; total time=  15.6s\n",
      "[CV] END .......................C=1.0, gamma=3.0, kernel=rbf; total time=  17.3s\n",
      "[CV] END .......................C=1.0, gamma=3.0, kernel=rbf; total time=  17.7s\n",
      "[CV] END .......................C=1.0, gamma=3.0, kernel=rbf; total time=  17.0s\n",
      "[CV] END .......................C=1.0, gamma=3.0, kernel=rbf; total time=  16.9s\n",
      "[CV] END .......................C=1.0, gamma=3.0, kernel=rbf; total time=  24.7s\n",
      "[CV] END ......................C=3.0, gamma=0.01, kernel=rbf; total time=  18.2s\n",
      "[CV] END ......................C=3.0, gamma=0.01, kernel=rbf; total time=  15.5s\n",
      "[CV] END ......................C=3.0, gamma=0.01, kernel=rbf; total time=  18.8s\n",
      "[CV] END ......................C=3.0, gamma=0.01, kernel=rbf; total time=  19.4s\n",
      "[CV] END ......................C=3.0, gamma=0.01, kernel=rbf; total time=  24.4s\n",
      "[CV] END ......................C=3.0, gamma=0.03, kernel=rbf; total time=  23.5s\n",
      "[CV] END ......................C=3.0, gamma=0.03, kernel=rbf; total time=  22.9s\n",
      "[CV] END ......................C=3.0, gamma=0.03, kernel=rbf; total time=  25.1s\n",
      "[CV] END ......................C=3.0, gamma=0.03, kernel=rbf; total time=  23.2s\n",
      "[CV] END ......................C=3.0, gamma=0.03, kernel=rbf; total time=  21.4s\n",
      "[CV] END .......................C=3.0, gamma=0.1, kernel=rbf; total time=  22.3s\n",
      "[CV] END .......................C=3.0, gamma=0.1, kernel=rbf; total time=  23.5s\n",
      "[CV] END .......................C=3.0, gamma=0.1, kernel=rbf; total time=  20.6s\n",
      "[CV] END .......................C=3.0, gamma=0.1, kernel=rbf; total time=  20.1s\n",
      "[CV] END .......................C=3.0, gamma=0.1, kernel=rbf; total time=  22.7s\n",
      "[CV] END .......................C=3.0, gamma=0.3, kernel=rbf; total time=  21.8s\n",
      "[CV] END .......................C=3.0, gamma=0.3, kernel=rbf; total time=  21.0s\n",
      "[CV] END .......................C=3.0, gamma=0.3, kernel=rbf; total time=  21.2s\n",
      "[CV] END .......................C=3.0, gamma=0.3, kernel=rbf; total time=  22.4s\n",
      "[CV] END .......................C=3.0, gamma=0.3, kernel=rbf; total time=  23.5s\n",
      "[CV] END .......................C=3.0, gamma=1.0, kernel=rbf; total time=  25.5s\n",
      "[CV] END .......................C=3.0, gamma=1.0, kernel=rbf; total time=  21.8s\n",
      "[CV] END .......................C=3.0, gamma=1.0, kernel=rbf; total time=  19.7s\n",
      "[CV] END .......................C=3.0, gamma=1.0, kernel=rbf; total time=  21.9s\n",
      "[CV] END .......................C=3.0, gamma=1.0, kernel=rbf; total time=  25.8s\n",
      "[CV] END .......................C=3.0, gamma=3.0, kernel=rbf; total time=  19.6s\n",
      "[CV] END .......................C=3.0, gamma=3.0, kernel=rbf; total time=  18.7s\n",
      "[CV] END .......................C=3.0, gamma=3.0, kernel=rbf; total time=  25.2s\n",
      "[CV] END .......................C=3.0, gamma=3.0, kernel=rbf; total time=  19.3s\n",
      "[CV] END .......................C=3.0, gamma=3.0, kernel=rbf; total time=  22.5s\n",
      "[CV] END .....................C=10.0, gamma=0.01, kernel=rbf; total time=  18.8s\n",
      "[CV] END .....................C=10.0, gamma=0.01, kernel=rbf; total time=  22.1s\n",
      "[CV] END .....................C=10.0, gamma=0.01, kernel=rbf; total time=  22.2s\n",
      "[CV] END .....................C=10.0, gamma=0.01, kernel=rbf; total time=  20.0s\n",
      "[CV] END .....................C=10.0, gamma=0.01, kernel=rbf; total time=  22.1s\n",
      "[CV] END .....................C=10.0, gamma=0.03, kernel=rbf; total time=  18.1s\n",
      "[CV] END .....................C=10.0, gamma=0.03, kernel=rbf; total time=  22.5s\n",
      "[CV] END .....................C=10.0, gamma=0.03, kernel=rbf; total time=  31.2s\n",
      "[CV] END .....................C=10.0, gamma=0.03, kernel=rbf; total time=  20.4s\n",
      "[CV] END .....................C=10.0, gamma=0.03, kernel=rbf; total time=  21.5s\n",
      "[CV] END ......................C=10.0, gamma=0.1, kernel=rbf; total time=  21.2s\n",
      "[CV] END ......................C=10.0, gamma=0.1, kernel=rbf; total time=  22.9s\n",
      "[CV] END ......................C=10.0, gamma=0.1, kernel=rbf; total time=  16.6s\n",
      "[CV] END ......................C=10.0, gamma=0.1, kernel=rbf; total time=  17.2s\n",
      "[CV] END ......................C=10.0, gamma=0.1, kernel=rbf; total time=  16.1s\n",
      "[CV] END ......................C=10.0, gamma=0.3, kernel=rbf; total time=  15.6s\n",
      "[CV] END ......................C=10.0, gamma=0.3, kernel=rbf; total time=  21.3s\n",
      "[CV] END ......................C=10.0, gamma=0.3, kernel=rbf; total time=  21.2s\n",
      "[CV] END ......................C=10.0, gamma=0.3, kernel=rbf; total time=  20.2s\n",
      "[CV] END ......................C=10.0, gamma=0.3, kernel=rbf; total time=  21.3s\n",
      "[CV] END ......................C=10.0, gamma=1.0, kernel=rbf; total time=  18.3s\n",
      "[CV] END ......................C=10.0, gamma=1.0, kernel=rbf; total time=  19.2s\n",
      "[CV] END ......................C=10.0, gamma=1.0, kernel=rbf; total time=  25.8s\n",
      "[CV] END ......................C=10.0, gamma=1.0, kernel=rbf; total time=  21.6s\n",
      "[CV] END ......................C=10.0, gamma=1.0, kernel=rbf; total time=  19.9s\n",
      "[CV] END ......................C=10.0, gamma=3.0, kernel=rbf; total time=  24.1s\n",
      "[CV] END ......................C=10.0, gamma=3.0, kernel=rbf; total time=  25.5s\n",
      "[CV] END ......................C=10.0, gamma=3.0, kernel=rbf; total time=  25.3s\n",
      "[CV] END ......................C=10.0, gamma=3.0, kernel=rbf; total time=  22.8s\n",
      "[CV] END ......................C=10.0, gamma=3.0, kernel=rbf; total time=  17.3s\n",
      "[CV] END .....................C=30.0, gamma=0.01, kernel=rbf; total time=  18.6s\n",
      "[CV] END .....................C=30.0, gamma=0.01, kernel=rbf; total time=  24.6s\n",
      "[CV] END .....................C=30.0, gamma=0.01, kernel=rbf; total time=  21.1s\n",
      "[CV] END .....................C=30.0, gamma=0.01, kernel=rbf; total time=  20.6s\n",
      "[CV] END .....................C=30.0, gamma=0.01, kernel=rbf; total time=  22.2s\n",
      "[CV] END .....................C=30.0, gamma=0.03, kernel=rbf; total time=  20.2s\n",
      "[CV] END .....................C=30.0, gamma=0.03, kernel=rbf; total time=  22.6s\n",
      "[CV] END .....................C=30.0, gamma=0.03, kernel=rbf; total time=  21.9s\n",
      "[CV] END .....................C=30.0, gamma=0.03, kernel=rbf; total time=  23.0s\n",
      "[CV] END .....................C=30.0, gamma=0.03, kernel=rbf; total time=  24.5s\n",
      "[CV] END ......................C=30.0, gamma=0.1, kernel=rbf; total time=  22.1s\n",
      "[CV] END ......................C=30.0, gamma=0.1, kernel=rbf; total time=  20.6s\n",
      "[CV] END ......................C=30.0, gamma=0.1, kernel=rbf; total time=  20.7s\n",
      "[CV] END ......................C=30.0, gamma=0.1, kernel=rbf; total time=  20.5s\n",
      "[CV] END ......................C=30.0, gamma=0.1, kernel=rbf; total time=  28.1s\n",
      "[CV] END ......................C=30.0, gamma=0.3, kernel=rbf; total time=  24.1s\n",
      "[CV] END ......................C=30.0, gamma=0.3, kernel=rbf; total time=  22.7s\n",
      "[CV] END ......................C=30.0, gamma=0.3, kernel=rbf; total time=  20.6s\n",
      "[CV] END ......................C=30.0, gamma=0.3, kernel=rbf; total time=  19.5s\n",
      "[CV] END ......................C=30.0, gamma=0.3, kernel=rbf; total time=  25.4s\n",
      "[CV] END ......................C=30.0, gamma=1.0, kernel=rbf; total time=  23.5s\n",
      "[CV] END ......................C=30.0, gamma=1.0, kernel=rbf; total time=  22.9s\n",
      "[CV] END ......................C=30.0, gamma=1.0, kernel=rbf; total time=  22.6s\n",
      "[CV] END ......................C=30.0, gamma=1.0, kernel=rbf; total time=  24.8s\n",
      "[CV] END ......................C=30.0, gamma=1.0, kernel=rbf; total time=  22.6s\n",
      "[CV] END ......................C=30.0, gamma=3.0, kernel=rbf; total time=  22.4s\n",
      "[CV] END ......................C=30.0, gamma=3.0, kernel=rbf; total time=  23.9s\n",
      "[CV] END ......................C=30.0, gamma=3.0, kernel=rbf; total time=  19.5s\n",
      "[CV] END ......................C=30.0, gamma=3.0, kernel=rbf; total time=  24.4s\n",
      "[CV] END ......................C=30.0, gamma=3.0, kernel=rbf; total time=  24.6s\n",
      "[CV] END ....................C=100.0, gamma=0.01, kernel=rbf; total time=  22.9s\n",
      "[CV] END ....................C=100.0, gamma=0.01, kernel=rbf; total time=  21.6s\n",
      "[CV] END ....................C=100.0, gamma=0.01, kernel=rbf; total time=  24.2s\n",
      "[CV] END ....................C=100.0, gamma=0.01, kernel=rbf; total time=  21.6s\n",
      "[CV] END ....................C=100.0, gamma=0.01, kernel=rbf; total time=  19.5s\n",
      "[CV] END ....................C=100.0, gamma=0.03, kernel=rbf; total time=  20.4s\n",
      "[CV] END ....................C=100.0, gamma=0.03, kernel=rbf; total time=  19.3s\n",
      "[CV] END ....................C=100.0, gamma=0.03, kernel=rbf; total time=  20.7s\n",
      "[CV] END ....................C=100.0, gamma=0.03, kernel=rbf; total time=  26.5s\n",
      "[CV] END ....................C=100.0, gamma=0.03, kernel=rbf; total time=  32.8s\n",
      "[CV] END .....................C=100.0, gamma=0.1, kernel=rbf; total time=  19.6s\n",
      "[CV] END .....................C=100.0, gamma=0.1, kernel=rbf; total time=  20.1s\n",
      "[CV] END .....................C=100.0, gamma=0.1, kernel=rbf; total time=  23.8s\n",
      "[CV] END .....................C=100.0, gamma=0.1, kernel=rbf; total time=  19.2s\n",
      "[CV] END .....................C=100.0, gamma=0.1, kernel=rbf; total time=  18.8s\n",
      "[CV] END .....................C=100.0, gamma=0.3, kernel=rbf; total time=  18.9s\n",
      "[CV] END .....................C=100.0, gamma=0.3, kernel=rbf; total time=  22.2s\n",
      "[CV] END .....................C=100.0, gamma=0.3, kernel=rbf; total time=  21.1s\n",
      "[CV] END .....................C=100.0, gamma=0.3, kernel=rbf; total time=  15.9s\n",
      "[CV] END .....................C=100.0, gamma=0.3, kernel=rbf; total time=  23.7s\n",
      "[CV] END .....................C=100.0, gamma=1.0, kernel=rbf; total time=  20.6s\n",
      "[CV] END .....................C=100.0, gamma=1.0, kernel=rbf; total time=  19.9s\n",
      "[CV] END .....................C=100.0, gamma=1.0, kernel=rbf; total time=  18.5s\n",
      "[CV] END .....................C=100.0, gamma=1.0, kernel=rbf; total time=  17.8s\n",
      "[CV] END .....................C=100.0, gamma=1.0, kernel=rbf; total time=  20.7s\n",
      "[CV] END .....................C=100.0, gamma=3.0, kernel=rbf; total time=  21.3s\n",
      "[CV] END .....................C=100.0, gamma=3.0, kernel=rbf; total time=  24.3s\n",
      "[CV] END .....................C=100.0, gamma=3.0, kernel=rbf; total time=  22.0s\n",
      "[CV] END .....................C=100.0, gamma=3.0, kernel=rbf; total time=  22.8s\n",
      "[CV] END .....................C=100.0, gamma=3.0, kernel=rbf; total time=  21.0s\n",
      "[CV] END ....................C=300.0, gamma=0.01, kernel=rbf; total time=  19.7s\n",
      "[CV] END ....................C=300.0, gamma=0.01, kernel=rbf; total time=  22.2s\n",
      "[CV] END ....................C=300.0, gamma=0.01, kernel=rbf; total time=  24.1s\n",
      "[CV] END ....................C=300.0, gamma=0.01, kernel=rbf; total time=  24.5s\n",
      "[CV] END ....................C=300.0, gamma=0.01, kernel=rbf; total time=  29.9s\n",
      "[CV] END ....................C=300.0, gamma=0.03, kernel=rbf; total time=  31.4s\n",
      "[CV] END ....................C=300.0, gamma=0.03, kernel=rbf; total time=  26.2s\n",
      "[CV] END ....................C=300.0, gamma=0.03, kernel=rbf; total time=  21.5s\n",
      "[CV] END ....................C=300.0, gamma=0.03, kernel=rbf; total time=  22.5s\n",
      "[CV] END ....................C=300.0, gamma=0.03, kernel=rbf; total time=  25.3s\n",
      "[CV] END .....................C=300.0, gamma=0.1, kernel=rbf; total time=  18.8s\n",
      "[CV] END .....................C=300.0, gamma=0.1, kernel=rbf; total time=  16.5s\n",
      "[CV] END .....................C=300.0, gamma=0.1, kernel=rbf; total time=  23.1s\n",
      "[CV] END .....................C=300.0, gamma=0.1, kernel=rbf; total time=  29.3s\n",
      "[CV] END .....................C=300.0, gamma=0.1, kernel=rbf; total time=  20.3s\n",
      "[CV] END .....................C=300.0, gamma=0.3, kernel=rbf; total time=  18.0s\n",
      "[CV] END .....................C=300.0, gamma=0.3, kernel=rbf; total time=  20.9s\n",
      "[CV] END .....................C=300.0, gamma=0.3, kernel=rbf; total time=  15.2s\n",
      "[CV] END .....................C=300.0, gamma=0.3, kernel=rbf; total time=  15.1s\n",
      "[CV] END .....................C=300.0, gamma=0.3, kernel=rbf; total time=  15.5s\n",
      "[CV] END .....................C=300.0, gamma=1.0, kernel=rbf; total time=  15.0s\n",
      "[CV] END .....................C=300.0, gamma=1.0, kernel=rbf; total time=  14.7s\n",
      "[CV] END .....................C=300.0, gamma=1.0, kernel=rbf; total time=  15.0s\n",
      "[CV] END .....................C=300.0, gamma=1.0, kernel=rbf; total time=  15.5s\n",
      "[CV] END .....................C=300.0, gamma=1.0, kernel=rbf; total time=  15.5s\n",
      "[CV] END .....................C=300.0, gamma=3.0, kernel=rbf; total time=  16.4s\n",
      "[CV] END .....................C=300.0, gamma=3.0, kernel=rbf; total time=  18.4s\n",
      "[CV] END .....................C=300.0, gamma=3.0, kernel=rbf; total time=  31.9s\n",
      "[CV] END .....................C=300.0, gamma=3.0, kernel=rbf; total time=  18.1s\n",
      "[CV] END .....................C=300.0, gamma=3.0, kernel=rbf; total time=  16.1s\n",
      "[CV] END ...................C=1000.0, gamma=0.01, kernel=rbf; total time=  16.0s\n",
      "[CV] END ...................C=1000.0, gamma=0.01, kernel=rbf; total time=  17.8s\n",
      "[CV] END ...................C=1000.0, gamma=0.01, kernel=rbf; total time= 1.9min\n",
      "[CV] END ...................C=1000.0, gamma=0.01, kernel=rbf; total time=11.8min\n",
      "[CV] END ...................C=1000.0, gamma=0.01, kernel=rbf; total time=  20.2s\n",
      "[CV] END ...................C=1000.0, gamma=0.03, kernel=rbf; total time=  18.6s\n",
      "[CV] END ...................C=1000.0, gamma=0.03, kernel=rbf; total time=  17.2s\n",
      "[CV] END ...................C=1000.0, gamma=0.03, kernel=rbf; total time=  26.1s\n",
      "[CV] END ...................C=1000.0, gamma=0.03, kernel=rbf; total time=  31.5s\n",
      "[CV] END ...................C=1000.0, gamma=0.03, kernel=rbf; total time=  32.7s\n",
      "[CV] END ....................C=1000.0, gamma=0.1, kernel=rbf; total time=  33.2s\n",
      "[CV] END ....................C=1000.0, gamma=0.1, kernel=rbf; total time=  30.2s\n",
      "[CV] END ....................C=1000.0, gamma=0.1, kernel=rbf; total time=  30.1s\n",
      "[CV] END ....................C=1000.0, gamma=0.1, kernel=rbf; total time=  29.2s\n",
      "[CV] END ....................C=1000.0, gamma=0.1, kernel=rbf; total time=  33.9s\n",
      "[CV] END ....................C=1000.0, gamma=0.3, kernel=rbf; total time=  31.9s\n",
      "[CV] END ....................C=1000.0, gamma=0.3, kernel=rbf; total time=  29.5s\n",
      "[CV] END ....................C=1000.0, gamma=0.3, kernel=rbf; total time=  31.8s\n",
      "[CV] END ....................C=1000.0, gamma=0.3, kernel=rbf; total time=  29.3s\n",
      "[CV] END ....................C=1000.0, gamma=0.3, kernel=rbf; total time=  31.3s\n",
      "[CV] END ....................C=1000.0, gamma=1.0, kernel=rbf; total time=  29.8s\n",
      "[CV] END ....................C=1000.0, gamma=1.0, kernel=rbf; total time=  28.7s\n",
      "[CV] END ....................C=1000.0, gamma=1.0, kernel=rbf; total time=  26.8s\n",
      "[CV] END ....................C=1000.0, gamma=1.0, kernel=rbf; total time=  30.9s\n",
      "[CV] END ....................C=1000.0, gamma=1.0, kernel=rbf; total time=  31.2s\n",
      "[CV] END ....................C=1000.0, gamma=3.0, kernel=rbf; total time=  33.6s\n",
      "[CV] END ....................C=1000.0, gamma=3.0, kernel=rbf; total time=  34.3s\n",
      "[CV] END ....................C=1000.0, gamma=3.0, kernel=rbf; total time=  35.3s\n",
      "[CV] END ....................C=1000.0, gamma=3.0, kernel=rbf; total time=  33.5s\n",
      "[CV] END ....................C=1000.0, gamma=3.0, kernel=rbf; total time=  34.7s\n"
     ]
    },
    {
     "data": {
      "text/plain": [
       "GridSearchCV(cv=5, estimator=SVR(),\n",
       "             param_grid=[{'C': [10.0, 30.0, 100.0, 300.0, 1000.0, 3000.0,\n",
       "                                10000.0, 30000.0],\n",
       "                          'kernel': ['linear']},\n",
       "                         {'C': [1.0, 3.0, 10.0, 30.0, 100.0, 300.0, 1000.0],\n",
       "                          'gamma': [0.01, 0.03, 0.1, 0.3, 1.0, 3.0],\n",
       "                          'kernel': ['rbf']}],\n",
       "             scoring='neg_mean_squared_error', verbose=2)"
      ]
     },
     "execution_count": 108,
     "metadata": {},
     "output_type": "execute_result"
    }
   ],
   "source": [
    "from sklearn.model_selection import GridSearchCV\n",
    "from sklearn.svm import SVR\n",
    "\n",
    "param_grid = [\n",
    "        {'kernel': ['linear'], 'C': [10., 30., 100., 300., 1000., 3000., 10000., 30000.0]},\n",
    "        {'kernel': ['rbf'], 'C': [1.0, 3.0, 10., 30., 100., 300., 1000.0],\n",
    "         'gamma': [0.01, 0.03, 0.1, 0.3, 1.0, 3.0]},\n",
    "    ]\n",
    "\n",
    "svm_reg = SVR()\n",
    "grid_search = GridSearchCV(svm_reg, param_grid, cv=5, scoring='neg_mean_squared_error', verbose=2)\n",
    "grid_search.fit(train_data, train_labels)   "
   ]
  },
  {
   "cell_type": "code",
   "execution_count": 109,
   "metadata": {},
   "outputs": [
    {
     "data": {
      "text/plain": [
       "69532.49795543445"
      ]
     },
     "execution_count": 109,
     "metadata": {},
     "output_type": "execute_result"
    }
   ],
   "source": [
    "negative_mse = grid_search.best_score_\n",
    "rmse = np.sqrt(-negative_mse)\n",
    "rmse"
   ]
  },
  {
   "cell_type": "code",
   "execution_count": 110,
   "metadata": {},
   "outputs": [
    {
     "data": {
      "text/plain": [
       "{'C': 30000.0, 'kernel': 'linear'}"
      ]
     },
     "execution_count": 110,
     "metadata": {},
     "output_type": "execute_result"
    }
   ],
   "source": [
    "grid_search.best_params_"
   ]
  },
  {
   "cell_type": "code",
   "execution_count": 1,
   "metadata": {},
   "outputs": [
    {
     "data": {
      "text/plain": [
       "50"
      ]
     },
     "execution_count": 1,
     "metadata": {},
     "output_type": "execute_result"
    }
   ],
   "source": [
    "kruepsh_5_ = 50\n",
    "kruepsh_5_"
   ]
  },
  {
   "cell_type": "code",
   "execution_count": 2,
   "metadata": {},
   "outputs": [
    {
     "data": {
      "text/plain": [
       "3.0"
      ]
     },
     "execution_count": 2,
     "metadata": {},
     "output_type": "execute_result"
    }
   ],
   "source": [
    "10//3.0\n"
   ]
  },
  {
   "cell_type": "code",
   "execution_count": 16,
   "metadata": {},
   "outputs": [
    {
     "name": "stdout",
     "output_type": "stream",
     "text": [
      "Total Price : 300.0\n",
      "Average Price : 100.0\n",
      "Total Discount : 60.0\n",
      "Total Price after Discount : 240.0\n"
     ]
    }
   ],
   "source": [
    "price = 0.0\n",
    "total_price = 0.0\n",
    "count = 0\n",
    "def read_book_price():\n",
    "    global count\n",
    "    global total_price\n",
    "    price = float(input(\"enter Price of Book\"))\n",
    "    if price < 0:\n",
    "        print(f'Total Price : {total_price}')\n",
    "        print(f'Average Price : {total_price/count}')\n",
    "        if total_price < 80:\n",
    "            discount = 0 \n",
    "            print(f'Total Discount : {discount}')\n",
    "            print(f'Total Price after Discount : {total_price - discount}')\n",
    "        elif total_price > 80 and total_price < 160:\n",
    "            discount = total_price * 0.15\n",
    "            print(f'Total Discount : {discount}')\n",
    "            print(f'Total Price after Discount : {total_price - discount}')\n",
    "        \n",
    "        elif total_price > 160:\n",
    "            discount = total_price * 0.20\n",
    "            print(f'Total Discount : {discount}')\n",
    "            print(f'Total Price after Discount : {total_price - discount}')\n",
    "\n",
    "    else:\n",
    "        count = count + 1\n",
    "        total_price = total_price + price\n",
    "        read_book_price()\n",
    "\n",
    "read_book_price()"
   ]
  },
  {
   "cell_type": "code",
   "execution_count": 17,
   "metadata": {},
   "outputs": [
    {
     "ename": "ModuleNotFoundError",
     "evalue": "No module named 'sklearn'",
     "output_type": "error",
     "traceback": [
      "\u001b[1;31m---------------------------------------------------------------------------\u001b[0m",
      "\u001b[1;31mModuleNotFoundError\u001b[0m                       Traceback (most recent call last)",
      "Cell \u001b[1;32mIn [17], line 1\u001b[0m\n\u001b[1;32m----> 1\u001b[0m \u001b[38;5;28;01mfrom\u001b[39;00m \u001b[38;5;21;01msklearn\u001b[39;00m\u001b[38;5;21;01m.\u001b[39;00m\u001b[38;5;21;01mmetrics\u001b[39;00m \u001b[38;5;28;01mimport\u001b[39;00m precision_recall_fscore_support \u001b[38;5;28;01mas\u001b[39;00m score\n\u001b[0;32m      2\u001b[0m \u001b[38;5;28;01mfrom\u001b[39;00m \u001b[38;5;21;01msklearn\u001b[39;00m\u001b[38;5;21;01m.\u001b[39;00m\u001b[38;5;21;01mmetrics\u001b[39;00m \u001b[38;5;28;01mimport\u001b[39;00m confusion_matrix,accuracy_score\n\u001b[0;32m      3\u001b[0m \u001b[38;5;28;01mfrom\u001b[39;00m \u001b[38;5;21;01msklearn\u001b[39;00m\u001b[38;5;21;01m.\u001b[39;00m\u001b[38;5;21;01mmetrics\u001b[39;00m \u001b[38;5;28;01mimport\u001b[39;00m mean_squared_error,r2_score\n",
      "\u001b[1;31mModuleNotFoundError\u001b[0m: No module named 'sklearn'"
     ]
    }
   ],
   "source": []
  },
  {
   "cell_type": "code",
   "execution_count": null,
   "metadata": {},
   "outputs": [],
   "source": []
  }
 ],
 "metadata": {
  "interpreter": {
   "hash": "17999a8378a35389798968e93db08ea75eb5d1a70e903bcba9755769bbb8bc7a"
  },
  "kernelspec": {
   "display_name": "Python 3.10.2 32-bit",
   "language": "python",
   "name": "python3"
  },
  "language_info": {
   "codemirror_mode": {
    "name": "ipython",
    "version": 3
   },
   "file_extension": ".py",
   "mimetype": "text/x-python",
   "name": "python",
   "nbconvert_exporter": "python",
   "pygments_lexer": "ipython3",
   "version": "3.10.2"
  },
  "orig_nbformat": 4
 },
 "nbformat": 4,
 "nbformat_minor": 2
}
